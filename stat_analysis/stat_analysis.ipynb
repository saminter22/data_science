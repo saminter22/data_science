{
 "cells": [
  {
   "cell_type": "markdown",
   "id": "7fee7d3b-563e-4067-84f7-611685e6812f",
   "metadata": {},
   "source": [
    "# Статистический анализ данных поездок электросамокатов"
   ]
  },
  {
   "cell_type": "markdown",
   "id": "bd12443c-3419-46e5-84d6-088e1b7efa91",
   "metadata": {},
   "source": [
    "Требуется проанализииировать данные о поездках пользователей сервиса аренды самокатов и проверить несколько гипотех о поездках пользователей с подпиской и без. А так же рассчитать параметры промо-кампании для достижения поставленных результатов.\n",
    "\n",
    "Стоимость минуты поездки без подписки - 8 рублей (стоимость старта 50 рублей), с подпиской - 6 рублей (абон плата в месяц 199 рублей)."
   ]
  },
  {
   "cell_type": "markdown",
   "id": "103bfcc5-8349-4b50-8e3f-defa13b05cdd",
   "metadata": {},
   "source": [
    "## Исходные данные\n",
    "Данные для иссследования представлены тремя файлами:\n",
    "- Пользователи - users_go.csv\n",
    "- Поездки — rides_go.csv\n",
    "- Подписки - subscriptions_go.csv\n",
    "\n",
    "Легенда:\n",
    "- user_id - уникальный идентификатор пользователя\n",
    "- name - имя пользователя\n",
    "- age - возраст\n",
    "- city - город\n",
    "- subscription_type - тип подписки (free, ultra)\n",
    "- distance - расстояние, которое пользователь проехал в текущей сессии (в метрах)\n",
    "- duration - продолжительность сессии (в минутах) — время с того момента, как пользователь нажал кнопку «Начать поездку» до момента, как он нажал кнопку «Завершить поездку»\n",
    "- date - дата совершения поездки\n",
    "- subscription_type - тип подписки\n",
    "- minute_price - стоимость одной минуты поездки по данной подписке\n",
    "- start_ride_price - стоимость начала поездки\n",
    "- subscription_fee - стоимость ежемесячного платежа"
   ]
  },
  {
   "cell_type": "markdown",
   "id": "9a6ff2ac-40d8-4fd0-af52-51cfe6250812",
   "metadata": {},
   "source": [
    "Краткий план работы\n",
    "- Загрузим и предобработаем данные, проверим наличие дубликатов и пропусков, при необходимости исправим.\n",
    "- Затем иссследуем показатели по востребованности самокатов по городам, изучим клиентов и особенности использования самокатов в городах. \n",
    "- Объединим данные из таблиц в единый датафрейм для дальнейшей работы и анализа.\n",
    "- Агрегируем данные, посчитаем основные показатели для каждого пользователя помесячно, Посчитаем выручку. Проанализируем полученные данные.\n",
    "- Проверим гипотезы от отдела маркетинга.\n",
    "- Рассчитаем размер необходимой рассылки промокодов и push-сообщений."
   ]
  },
  {
   "cell_type": "code",
   "execution_count": 1,
   "id": "61accef1-bee5-4a01-af34-d009f5c8f71e",
   "metadata": {},
   "outputs": [],
   "source": [
    "# Яндекс Практикум проект"
   ]
  },
  {
   "cell_type": "markdown",
   "id": "aa178f7c-3177-4518-821b-651692fdfa0e",
   "metadata": {},
   "source": [
    "## Загрузка данных\n",
    "Но перед этим сделаем импорт необходимых библиотек и провдем настройки Jupyter Notebook."
   ]
  },
  {
   "cell_type": "code",
   "execution_count": 2,
   "id": "7a632ef6-dfc3-4592-a5ba-63908a378f72",
   "metadata": {},
   "outputs": [],
   "source": [
    "# Игнгорирование предупреждений системы\n",
    "import warnings\n",
    "# warnings.simplefilter(action='ignore', category=FutureWarning)\n",
    "warnings.filterwarnings(\"ignore\")"
   ]
  },
  {
   "cell_type": "code",
   "execution_count": 3,
   "id": "d14dd3a1-ca66-48c8-a8d7-e3e30a547285",
   "metadata": {},
   "outputs": [],
   "source": [
    "# Импорт необходимых билиотек\n",
    "import pandas as pd\n",
    "import scipy.stats as st\n",
    "import matplotlib.pyplot as plt\n",
    "import numpy as np\n",
    "from scipy import stats as st\n",
    "import seaborn as sns"
   ]
  },
  {
   "cell_type": "code",
   "execution_count": 4,
   "id": "5327d13b-b82b-495e-baf5-ee2620fa5b73",
   "metadata": {},
   "outputs": [],
   "source": [
    "# Загрузим данные\n",
    "users = pd.read_csv('https://code.s3.yandex.net/datasets/users_go.csv') #пользователи\n",
    "rides = pd.read_csv('https://code.s3.yandex.net/datasets/rides_go.csv') #поездки\n",
    "subscriptions = pd.read_csv('https://code.s3.yandex.net/datasets/subscriptions_go.csv') #подписки"
   ]
  },
  {
   "cell_type": "markdown",
   "id": "a9b015e3-7900-460c-8740-e0818b299ec5",
   "metadata": {},
   "source": [
    "Краткое изучение полученных данных."
   ]
  },
  {
   "cell_type": "markdown",
   "id": "60751287-31d0-4743-bb4f-76565c79b39a",
   "metadata": {},
   "source": [
    "Пользователи."
   ]
  },
  {
   "cell_type": "code",
   "execution_count": 5,
   "id": "09fff9f3-3ae6-43e3-a600-9c78366fd835",
   "metadata": {},
   "outputs": [
    {
     "name": "stdout",
     "output_type": "stream",
     "text": [
      "<class 'pandas.core.frame.DataFrame'>\n",
      "RangeIndex: 1565 entries, 0 to 1564\n",
      "Data columns (total 5 columns):\n",
      " #   Column             Non-Null Count  Dtype \n",
      "---  ------             --------------  ----- \n",
      " 0   user_id            1565 non-null   int64 \n",
      " 1   name               1565 non-null   object\n",
      " 2   age                1565 non-null   int64 \n",
      " 3   city               1565 non-null   object\n",
      " 4   subscription_type  1565 non-null   object\n",
      "dtypes: int64(2), object(3)\n",
      "memory usage: 61.3+ KB\n"
     ]
    },
    {
     "data": {
      "text/html": [
       "<div>\n",
       "<style scoped>\n",
       "    .dataframe tbody tr th:only-of-type {\n",
       "        vertical-align: middle;\n",
       "    }\n",
       "\n",
       "    .dataframe tbody tr th {\n",
       "        vertical-align: top;\n",
       "    }\n",
       "\n",
       "    .dataframe thead th {\n",
       "        text-align: right;\n",
       "    }\n",
       "</style>\n",
       "<table border=\"1\" class=\"dataframe\">\n",
       "  <thead>\n",
       "    <tr style=\"text-align: right;\">\n",
       "      <th></th>\n",
       "      <th>user_id</th>\n",
       "      <th>name</th>\n",
       "      <th>age</th>\n",
       "      <th>city</th>\n",
       "      <th>subscription_type</th>\n",
       "    </tr>\n",
       "  </thead>\n",
       "  <tbody>\n",
       "    <tr>\n",
       "      <th>0</th>\n",
       "      <td>1</td>\n",
       "      <td>Кира</td>\n",
       "      <td>22</td>\n",
       "      <td>Тюмень</td>\n",
       "      <td>ultra</td>\n",
       "    </tr>\n",
       "    <tr>\n",
       "      <th>1</th>\n",
       "      <td>2</td>\n",
       "      <td>Станислав</td>\n",
       "      <td>31</td>\n",
       "      <td>Омск</td>\n",
       "      <td>ultra</td>\n",
       "    </tr>\n",
       "    <tr>\n",
       "      <th>2</th>\n",
       "      <td>3</td>\n",
       "      <td>Алексей</td>\n",
       "      <td>20</td>\n",
       "      <td>Москва</td>\n",
       "      <td>ultra</td>\n",
       "    </tr>\n",
       "    <tr>\n",
       "      <th>3</th>\n",
       "      <td>4</td>\n",
       "      <td>Константин</td>\n",
       "      <td>26</td>\n",
       "      <td>Ростов-на-Дону</td>\n",
       "      <td>ultra</td>\n",
       "    </tr>\n",
       "    <tr>\n",
       "      <th>4</th>\n",
       "      <td>5</td>\n",
       "      <td>Адель</td>\n",
       "      <td>28</td>\n",
       "      <td>Омск</td>\n",
       "      <td>ultra</td>\n",
       "    </tr>\n",
       "  </tbody>\n",
       "</table>\n",
       "</div>"
      ],
      "text/plain": [
       "   user_id        name  age            city subscription_type\n",
       "0        1        Кира   22          Тюмень             ultra\n",
       "1        2   Станислав   31            Омск             ultra\n",
       "2        3     Алексей   20          Москва             ultra\n",
       "3        4  Константин   26  Ростов-на-Дону             ultra\n",
       "4        5       Адель   28            Омск             ultra"
      ]
     },
     "execution_count": 5,
     "metadata": {},
     "output_type": "execute_result"
    }
   ],
   "source": [
    "users.info()\n",
    "users.head()"
   ]
  },
  {
   "cell_type": "markdown",
   "id": "29d53f13-670c-489d-8d4e-e695b0a864f9",
   "metadata": {},
   "source": [
    "Пропусков нет, хорошо. 1565 строк."
   ]
  },
  {
   "cell_type": "markdown",
   "id": "0daa2b2d-9cc8-4e6b-a189-7f1bcf98ff86",
   "metadata": {},
   "source": [
    "Поездки."
   ]
  },
  {
   "cell_type": "code",
   "execution_count": 6,
   "id": "553c2433-b798-4112-a306-136c2855b4c3",
   "metadata": {},
   "outputs": [
    {
     "name": "stdout",
     "output_type": "stream",
     "text": [
      "<class 'pandas.core.frame.DataFrame'>\n",
      "RangeIndex: 18068 entries, 0 to 18067\n",
      "Data columns (total 4 columns):\n",
      " #   Column    Non-Null Count  Dtype  \n",
      "---  ------    --------------  -----  \n",
      " 0   user_id   18068 non-null  int64  \n",
      " 1   distance  18068 non-null  float64\n",
      " 2   duration  18068 non-null  float64\n",
      " 3   date      18068 non-null  object \n",
      "dtypes: float64(2), int64(1), object(1)\n",
      "memory usage: 564.8+ KB\n"
     ]
    },
    {
     "data": {
      "text/html": [
       "<div>\n",
       "<style scoped>\n",
       "    .dataframe tbody tr th:only-of-type {\n",
       "        vertical-align: middle;\n",
       "    }\n",
       "\n",
       "    .dataframe tbody tr th {\n",
       "        vertical-align: top;\n",
       "    }\n",
       "\n",
       "    .dataframe thead th {\n",
       "        text-align: right;\n",
       "    }\n",
       "</style>\n",
       "<table border=\"1\" class=\"dataframe\">\n",
       "  <thead>\n",
       "    <tr style=\"text-align: right;\">\n",
       "      <th></th>\n",
       "      <th>user_id</th>\n",
       "      <th>distance</th>\n",
       "      <th>duration</th>\n",
       "      <th>date</th>\n",
       "    </tr>\n",
       "  </thead>\n",
       "  <tbody>\n",
       "    <tr>\n",
       "      <th>0</th>\n",
       "      <td>1</td>\n",
       "      <td>4409.919140</td>\n",
       "      <td>25.599769</td>\n",
       "      <td>2021-01-01</td>\n",
       "    </tr>\n",
       "    <tr>\n",
       "      <th>1</th>\n",
       "      <td>1</td>\n",
       "      <td>2617.592153</td>\n",
       "      <td>15.816871</td>\n",
       "      <td>2021-01-18</td>\n",
       "    </tr>\n",
       "    <tr>\n",
       "      <th>2</th>\n",
       "      <td>1</td>\n",
       "      <td>754.159807</td>\n",
       "      <td>6.232113</td>\n",
       "      <td>2021-04-20</td>\n",
       "    </tr>\n",
       "    <tr>\n",
       "      <th>3</th>\n",
       "      <td>1</td>\n",
       "      <td>2694.783254</td>\n",
       "      <td>18.511000</td>\n",
       "      <td>2021-08-11</td>\n",
       "    </tr>\n",
       "    <tr>\n",
       "      <th>4</th>\n",
       "      <td>1</td>\n",
       "      <td>4028.687306</td>\n",
       "      <td>26.265803</td>\n",
       "      <td>2021-08-28</td>\n",
       "    </tr>\n",
       "  </tbody>\n",
       "</table>\n",
       "</div>"
      ],
      "text/plain": [
       "   user_id     distance   duration        date\n",
       "0        1  4409.919140  25.599769  2021-01-01\n",
       "1        1  2617.592153  15.816871  2021-01-18\n",
       "2        1   754.159807   6.232113  2021-04-20\n",
       "3        1  2694.783254  18.511000  2021-08-11\n",
       "4        1  4028.687306  26.265803  2021-08-28"
      ]
     },
     "execution_count": 6,
     "metadata": {},
     "output_type": "execute_result"
    }
   ],
   "source": [
    "rides.info()\n",
    "rides.head()"
   ]
  },
  {
   "cell_type": "markdown",
   "id": "c0f7fc2b-b737-41bd-99b7-72c3e96bae6b",
   "metadata": {},
   "source": [
    "Пропусков нет. 18068 строк. Есть колонка с датой - загружаем в виде даты."
   ]
  },
  {
   "cell_type": "code",
   "execution_count": 7,
   "id": "17397027-1957-4274-9d59-97e08c316eb9",
   "metadata": {},
   "outputs": [
    {
     "name": "stdout",
     "output_type": "stream",
     "text": [
      "<class 'pandas.core.frame.DataFrame'>\n",
      "RangeIndex: 18068 entries, 0 to 18067\n",
      "Data columns (total 4 columns):\n",
      " #   Column    Non-Null Count  Dtype         \n",
      "---  ------    --------------  -----         \n",
      " 0   user_id   18068 non-null  int64         \n",
      " 1   distance  18068 non-null  float64       \n",
      " 2   duration  18068 non-null  float64       \n",
      " 3   date      18068 non-null  datetime64[ns]\n",
      "dtypes: datetime64[ns](1), float64(2), int64(1)\n",
      "memory usage: 564.8 KB\n"
     ]
    }
   ],
   "source": [
    "rides = pd.read_csv('https://code.s3.yandex.net/datasets/rides_go.csv', parse_dates=['date']) #поездки\n",
    "rides.info()"
   ]
  },
  {
   "cell_type": "markdown",
   "id": "e9e2705f-92ec-4d8c-8216-67812b487dbf",
   "metadata": {},
   "source": [
    "Условия подписки."
   ]
  },
  {
   "cell_type": "code",
   "execution_count": 8,
   "id": "61427333-1547-45c2-aedb-5e331da8f974",
   "metadata": {},
   "outputs": [
    {
     "name": "stdout",
     "output_type": "stream",
     "text": [
      "<class 'pandas.core.frame.DataFrame'>\n",
      "RangeIndex: 2 entries, 0 to 1\n",
      "Data columns (total 4 columns):\n",
      " #   Column             Non-Null Count  Dtype \n",
      "---  ------             --------------  ----- \n",
      " 0   subscription_type  2 non-null      object\n",
      " 1   minute_price       2 non-null      int64 \n",
      " 2   start_ride_price   2 non-null      int64 \n",
      " 3   subscription_fee   2 non-null      int64 \n",
      "dtypes: int64(3), object(1)\n",
      "memory usage: 192.0+ bytes\n"
     ]
    },
    {
     "data": {
      "text/html": [
       "<div>\n",
       "<style scoped>\n",
       "    .dataframe tbody tr th:only-of-type {\n",
       "        vertical-align: middle;\n",
       "    }\n",
       "\n",
       "    .dataframe tbody tr th {\n",
       "        vertical-align: top;\n",
       "    }\n",
       "\n",
       "    .dataframe thead th {\n",
       "        text-align: right;\n",
       "    }\n",
       "</style>\n",
       "<table border=\"1\" class=\"dataframe\">\n",
       "  <thead>\n",
       "    <tr style=\"text-align: right;\">\n",
       "      <th></th>\n",
       "      <th>subscription_type</th>\n",
       "      <th>minute_price</th>\n",
       "      <th>start_ride_price</th>\n",
       "      <th>subscription_fee</th>\n",
       "    </tr>\n",
       "  </thead>\n",
       "  <tbody>\n",
       "    <tr>\n",
       "      <th>0</th>\n",
       "      <td>free</td>\n",
       "      <td>8</td>\n",
       "      <td>50</td>\n",
       "      <td>0</td>\n",
       "    </tr>\n",
       "    <tr>\n",
       "      <th>1</th>\n",
       "      <td>ultra</td>\n",
       "      <td>6</td>\n",
       "      <td>0</td>\n",
       "      <td>199</td>\n",
       "    </tr>\n",
       "  </tbody>\n",
       "</table>\n",
       "</div>"
      ],
      "text/plain": [
       "  subscription_type  minute_price  start_ride_price  subscription_fee\n",
       "0              free             8                50                 0\n",
       "1             ultra             6                 0               199"
      ]
     },
     "execution_count": 8,
     "metadata": {},
     "output_type": "execute_result"
    }
   ],
   "source": [
    "subscriptions.info()\n",
    "subscriptions.head()"
   ]
  },
  {
   "cell_type": "markdown",
   "id": "670b4013-1a2e-4c19-a4de-28d59dca606c",
   "metadata": {},
   "source": [
    "Пропусков нет."
   ]
  },
  {
   "cell_type": "markdown",
   "id": "178d13dd-e2f3-4159-beaa-605e62da02bb",
   "metadata": {},
   "source": [
    "## Предобработка данных"
   ]
  },
  {
   "cell_type": "markdown",
   "id": "1cfbb22f-b98b-4a94-8766-c3af7bf84bf6",
   "metadata": {},
   "source": [
    "Смотрим за какой период представлены данные о поездках"
   ]
  },
  {
   "cell_type": "code",
   "execution_count": 9,
   "id": "36977e36-6b6d-43d7-a7aa-6bbc2b4442b8",
   "metadata": {},
   "outputs": [
    {
     "data": {
      "text/plain": [
       "(Timestamp('2021-01-01 00:00:00'), Timestamp('2021-12-30 00:00:00'))"
      ]
     },
     "execution_count": 9,
     "metadata": {},
     "output_type": "execute_result"
    }
   ],
   "source": [
    "rides.date.min(), rides.date.max()"
   ]
  },
  {
   "cell_type": "markdown",
   "id": "d5eb5a4c-0c88-4cbd-90a4-20e1b0883bbd",
   "metadata": {},
   "source": [
    "В таблице данные по поездкам за 2021 год, агрегация по месяцам будет корректной"
   ]
  },
  {
   "cell_type": "markdown",
   "id": "b1d80bd4-2e7b-4d0d-84f3-7afc99fc63dc",
   "metadata": {},
   "source": [
    "Создаем колонку с месяцем поездки, проверяем."
   ]
  },
  {
   "cell_type": "code",
   "execution_count": 10,
   "id": "44b3e1c6-eb7b-47ab-aff9-ced8be71c7e5",
   "metadata": {},
   "outputs": [
    {
     "data": {
      "text/html": [
       "<div>\n",
       "<style scoped>\n",
       "    .dataframe tbody tr th:only-of-type {\n",
       "        vertical-align: middle;\n",
       "    }\n",
       "\n",
       "    .dataframe tbody tr th {\n",
       "        vertical-align: top;\n",
       "    }\n",
       "\n",
       "    .dataframe thead th {\n",
       "        text-align: right;\n",
       "    }\n",
       "</style>\n",
       "<table border=\"1\" class=\"dataframe\">\n",
       "  <thead>\n",
       "    <tr style=\"text-align: right;\">\n",
       "      <th></th>\n",
       "      <th>user_id</th>\n",
       "      <th>distance</th>\n",
       "      <th>duration</th>\n",
       "      <th>date</th>\n",
       "      <th>month</th>\n",
       "    </tr>\n",
       "  </thead>\n",
       "  <tbody>\n",
       "    <tr>\n",
       "      <th>0</th>\n",
       "      <td>1</td>\n",
       "      <td>4409.919140</td>\n",
       "      <td>25.599769</td>\n",
       "      <td>2021-01-01</td>\n",
       "      <td>1</td>\n",
       "    </tr>\n",
       "    <tr>\n",
       "      <th>1</th>\n",
       "      <td>1</td>\n",
       "      <td>2617.592153</td>\n",
       "      <td>15.816871</td>\n",
       "      <td>2021-01-18</td>\n",
       "      <td>1</td>\n",
       "    </tr>\n",
       "    <tr>\n",
       "      <th>2</th>\n",
       "      <td>1</td>\n",
       "      <td>754.159807</td>\n",
       "      <td>6.232113</td>\n",
       "      <td>2021-04-20</td>\n",
       "      <td>4</td>\n",
       "    </tr>\n",
       "    <tr>\n",
       "      <th>3</th>\n",
       "      <td>1</td>\n",
       "      <td>2694.783254</td>\n",
       "      <td>18.511000</td>\n",
       "      <td>2021-08-11</td>\n",
       "      <td>8</td>\n",
       "    </tr>\n",
       "    <tr>\n",
       "      <th>4</th>\n",
       "      <td>1</td>\n",
       "      <td>4028.687306</td>\n",
       "      <td>26.265803</td>\n",
       "      <td>2021-08-28</td>\n",
       "      <td>8</td>\n",
       "    </tr>\n",
       "  </tbody>\n",
       "</table>\n",
       "</div>"
      ],
      "text/plain": [
       "   user_id     distance   duration       date  month\n",
       "0        1  4409.919140  25.599769 2021-01-01      1\n",
       "1        1  2617.592153  15.816871 2021-01-18      1\n",
       "2        1   754.159807   6.232113 2021-04-20      4\n",
       "3        1  2694.783254  18.511000 2021-08-11      8\n",
       "4        1  4028.687306  26.265803 2021-08-28      8"
      ]
     },
     "execution_count": 10,
     "metadata": {},
     "output_type": "execute_result"
    }
   ],
   "source": [
    "rides['month'] = rides.date.dt.month\n",
    "rides.head()"
   ]
  },
  {
   "cell_type": "markdown",
   "id": "10caf3b0-6f71-493b-917f-3e3d09fd2a06",
   "metadata": {},
   "source": [
    "Проверяем на пропуски и дубликаты."
   ]
  },
  {
   "cell_type": "code",
   "execution_count": 11,
   "id": "f31940b6-7dc5-4c58-89ef-1ef14783c01d",
   "metadata": {},
   "outputs": [
    {
     "name": "stdout",
     "output_type": "stream",
     "text": [
      "user_id     0\n",
      "distance    0\n",
      "duration    0\n",
      "date        0\n",
      "month       0\n",
      "dtype: int64\n",
      "user_id              0\n",
      "name                 0\n",
      "age                  0\n",
      "city                 0\n",
      "subscription_type    0\n",
      "dtype: int64\n",
      "Количество полных дубликатов: 31\n"
     ]
    }
   ],
   "source": [
    "print(rides.isna().sum())\n",
    "print(users.isna().sum())\n",
    "print('Количество полных дубликатов:', users.duplicated().sum())"
   ]
  },
  {
   "cell_type": "markdown",
   "id": "6a3c9bfe-0fae-46d5-ab95-79705a5c432f",
   "metadata": {},
   "source": [
    "Удалим дубликаты - оставляем первые значения, сбрасываем индексы, проверяем."
   ]
  },
  {
   "cell_type": "code",
   "execution_count": 12,
   "id": "18898b01-0784-4877-b0c3-4d4066aa2336",
   "metadata": {},
   "outputs": [
    {
     "name": "stdout",
     "output_type": "stream",
     "text": [
      "Количество полных дубликатов: 0\n"
     ]
    }
   ],
   "source": [
    "users.drop_duplicates(keep='first', inplace=True)\n",
    "users.reset_index(drop=True)\n",
    "print('Количество полных дубликатов:', users.duplicated().sum())"
   ]
  },
  {
   "cell_type": "code",
   "execution_count": 13,
   "id": "00467f83-9f49-48fd-a8dc-8bc865e91fbb",
   "metadata": {},
   "outputs": [
    {
     "name": "stdout",
     "output_type": "stream",
     "text": [
      "Количество полных дубликатов: 0\n"
     ]
    }
   ],
   "source": [
    "print('Количество полных дубликатов:', rides.duplicated().sum())"
   ]
  },
  {
   "cell_type": "markdown",
   "id": "a4a040bf-eee9-45d8-b77a-1f86f0c1427f",
   "metadata": {},
   "source": [
    "Во второй таблице дубликатов нет."
   ]
  },
  {
   "cell_type": "markdown",
   "id": "2ec5befc-2f82-42e0-b4db-6793048a6330",
   "metadata": {},
   "source": [
    "## Исследовательский анализ данных"
   ]
  },
  {
   "cell_type": "markdown",
   "id": "3e0980d5-e7d7-409a-885e-3a2c3f392f08",
   "metadata": {},
   "source": [
    "### Количество поездок в городах"
   ]
  },
  {
   "cell_type": "code",
   "execution_count": 14,
   "id": "529878bc-00ae-4980-bcc0-e65309fee315",
   "metadata": {},
   "outputs": [
    {
     "name": "stdout",
     "output_type": "stream",
     "text": [
      "             city  count   freq\n",
      "0       Пятигорск    219  0.143\n",
      "1    Екатеринбург    204  0.133\n",
      "2  Ростов-на-Дону    198  0.129\n",
      "3       Краснодар    193  0.126\n",
      "4            Сочи    189  0.123\n",
      "5            Омск    183  0.119\n",
      "6          Тюмень    180  0.117\n",
      "7          Москва    168  0.110\n"
     ]
    },
    {
     "data": {
      "image/png": "[encoded data removed]",
      "text/plain": [
       "<Figure size 1200x500 with 1 Axes>"
      ]
     },
     "metadata": {},
     "output_type": "display_data"
    },
    {
     "data": {
      "image/png": "[encoded data removed]",
      "text/plain": [
       "<Figure size 600x600 with 1 Axes>"
      ]
     },
     "metadata": {},
     "output_type": "display_data"
    }
   ],
   "source": [
    "all = users.user_id.count()\n",
    "cityes = users.pivot_table(index=['city'], values='user_id', aggfunc='count')\n",
    "cityes.rename(columns={'user_id': 'count'}, inplace=True)\n",
    "cityes['freq'] = round(cityes/all, 3)\n",
    "cityes = cityes.reset_index()\n",
    "cityes = cityes.sort_values(by='freq', ascending=False).reset_index(drop=True)\n",
    "print(cityes)\n",
    "cityes.plot(kind='bar', x='city', y=['count'], rot=45, figsize=(12,5), \n",
    "            title='Количество поездок в городах', grid = False, legend=False, ylabel='Количество поездок');\n",
    "cityes.plot(kind='pie', y='freq', x='freq', figsize=(6,6), labels=cityes.city,\n",
    "            title='Относительная частота поездок в городах', grid = False, legend=False, autopct = '%.1f');\n",
    "\n",
    "plt.show()"
   ]
  },
  {
   "cell_type": "markdown",
   "id": "e8331426-7991-4fd1-a7e1-e020d4ac6145",
   "metadata": {},
   "source": [
    "Чаще всего самокатами пользуются в Пятигорске, меньше всего - в Москве."
   ]
  },
  {
   "cell_type": "markdown",
   "id": "a5857128-be9a-4536-a2b7-95be8118a61e",
   "metadata": {},
   "source": [
    "### Соотношение пользователей с подпиской и без"
   ]
  },
  {
   "cell_type": "code",
   "execution_count": 15,
   "id": "084ac286-e72a-4dae-8ba2-884084678c46",
   "metadata": {},
   "outputs": [
    {
     "data": {
      "text/html": [
       "<div>\n",
       "<style scoped>\n",
       "    .dataframe tbody tr th:only-of-type {\n",
       "        vertical-align: middle;\n",
       "    }\n",
       "\n",
       "    .dataframe tbody tr th {\n",
       "        vertical-align: top;\n",
       "    }\n",
       "\n",
       "    .dataframe thead th {\n",
       "        text-align: right;\n",
       "    }\n",
       "</style>\n",
       "<table border=\"1\" class=\"dataframe\">\n",
       "  <thead>\n",
       "    <tr style=\"text-align: right;\">\n",
       "      <th></th>\n",
       "      <th>user_id</th>\n",
       "    </tr>\n",
       "    <tr>\n",
       "      <th>subscription_type</th>\n",
       "      <th></th>\n",
       "    </tr>\n",
       "  </thead>\n",
       "  <tbody>\n",
       "    <tr>\n",
       "      <th>free</th>\n",
       "      <td>835</td>\n",
       "    </tr>\n",
       "    <tr>\n",
       "      <th>ultra</th>\n",
       "      <td>699</td>\n",
       "    </tr>\n",
       "  </tbody>\n",
       "</table>\n",
       "</div>"
      ],
      "text/plain": [
       "                   user_id\n",
       "subscription_type         \n",
       "free                   835\n",
       "ultra                  699"
      ]
     },
     "execution_count": 15,
     "metadata": {},
     "output_type": "execute_result"
    }
   ],
   "source": [
    "users.groupby('subscription_type').agg({'user_id':'count'})"
   ]
  },
  {
   "cell_type": "code",
   "execution_count": 16,
   "id": "48776c7c-906d-4096-9cc4-e76cf569cf8d",
   "metadata": {},
   "outputs": [
    {
     "data": {
      "image/png": "[encoded data removed]",
      "text/plain": [
       "<Figure size 700x300 with 1 Axes>"
      ]
     },
     "metadata": {},
     "output_type": "display_data"
    },
    {
     "data": {
      "image/png": "[encoded data removed]",
      "text/plain": [
       "<Figure size 700x300 with 1 Axes>"
      ]
     },
     "metadata": {},
     "output_type": "display_data"
    },
    {
     "data": {
      "image/png": "[encoded data removed]",
      "text/plain": [
       "<Figure size 600x600 with 1 Axes>"
      ]
     },
     "metadata": {},
     "output_type": "display_data"
    }
   ],
   "source": [
    "subscriptions_users = users.pivot_table(index=['city'], columns='subscription_type', values='user_id', aggfunc='count').reset_index()\n",
    "subscriptions_users['summ'] = subscriptions_users.free + subscriptions_users.ultra\n",
    "subscriptions_users['free_perc'] = round(subscriptions_users.free/subscriptions_users.summ * 100, 2)\n",
    "subscriptions_users['ultra_perc'] = round(subscriptions_users.ultra/subscriptions_users.summ * 100, 2)\n",
    "subscriptions_users\n",
    "\n",
    "subscriptions_users.plot(kind='bar', x='city', y=['free_perc', 'ultra_perc'], figsize=(7,3), ylabel='Количество подписок', \n",
    "            rot=45, stacked=True, title='Соотношение пользователей с подпиской и без по городам')\n",
    "users.groupby('subscription_type').agg({'user_id':'count'}).reset_index().plot(kind='barh', \n",
    "            legend=False, x='subscription_type', ylabel='Название тарифа', \n",
    "            xlabel='Количество подписок', figsize=(7,3), title='Пользователи с подпиской и без')\n",
    "plt.show()\n",
    "\n",
    "users.groupby('subscription_type').agg({'user_id':'count'}).plot(kind='pie', y='user_id', \n",
    "            legend=True, ylabel='', \n",
    "            figsize=(6, 6), title='Пользователи с подпиской и без подписки', autopct = '%.1f')\n",
    "plt.show()"
   ]
  },
  {
   "cell_type": "markdown",
   "id": "9880ab61-e5b7-4d03-b170-1495d83a2508",
   "metadata": {},
   "source": [
    "На данный момент подписка есть у 46% пользователей сервиса аренды самокатов."
   ]
  },
  {
   "cell_type": "markdown",
   "id": "8e199686-13cf-4fcd-9882-e77da1a6569d",
   "metadata": {},
   "source": [
    "### Возраст пользователей"
   ]
  },
  {
   "cell_type": "code",
   "execution_count": 17,
   "id": "951a530a-de42-4544-b9cc-301acdf3cf5b",
   "metadata": {
    "scrolled": true
   },
   "outputs": [
    {
     "data": {
      "text/plain": [
       "count    1534.000000\n",
       "mean       24.903520\n",
       "std         4.572367\n",
       "min        12.000000\n",
       "25%        22.000000\n",
       "50%        25.000000\n",
       "75%        28.000000\n",
       "max        43.000000\n",
       "Name: age, dtype: float64"
      ]
     },
     "execution_count": 17,
     "metadata": {},
     "output_type": "execute_result"
    }
   ],
   "source": [
    "users.age.describe()"
   ]
  },
  {
   "cell_type": "code",
   "execution_count": 18,
   "id": "97d333a0-e66b-4379-8293-0629bf3ea6f4",
   "metadata": {},
   "outputs": [
    {
     "data": {
      "image/png": "[encoded data removed]",
      "text/plain": [
       "<Figure size 1200x500 with 1 Axes>"
      ]
     },
     "metadata": {},
     "output_type": "display_data"
    }
   ],
   "source": [
    "bins = users.age.max() - users.age.min()\n",
    "\n",
    "users.age.plot(kind='hist', bins=bins, figsize=(12,5), grid=True,\n",
    "              title='Распределение пользователей по возрасту', \n",
    "                    xlabel='Возраст, лет', ylabel='Число пользователей')\n",
    "plt.show()"
   ]
  },
  {
   "cell_type": "markdown",
   "id": "522cab13-f41c-45e4-ace2-a31ee551f09c",
   "metadata": {},
   "source": [
    "**Вывод:** Средний возраст пользователей сервиса - люди в возрасте 25 лет плюс минус 5 лет. Это ядро аудитории."
   ]
  },
  {
   "cell_type": "markdown",
   "id": "07c95a44-bee4-4a25-8983-02c4b2cbf8ff",
   "metadata": {},
   "source": [
    "### Расстояние, которое пользователь преодолел за одну поездку; ###"
   ]
  },
  {
   "cell_type": "code",
   "execution_count": 19,
   "id": "288928f1-c195-453f-9acf-41cd2d69e685",
   "metadata": {},
   "outputs": [
    {
     "data": {
      "text/html": [
       "<div>\n",
       "<style scoped>\n",
       "    .dataframe tbody tr th:only-of-type {\n",
       "        vertical-align: middle;\n",
       "    }\n",
       "\n",
       "    .dataframe tbody tr th {\n",
       "        vertical-align: top;\n",
       "    }\n",
       "\n",
       "    .dataframe thead th {\n",
       "        text-align: right;\n",
       "    }\n",
       "</style>\n",
       "<table border=\"1\" class=\"dataframe\">\n",
       "  <thead>\n",
       "    <tr style=\"text-align: right;\">\n",
       "      <th></th>\n",
       "      <th>distance</th>\n",
       "    </tr>\n",
       "    <tr>\n",
       "      <th>user_id</th>\n",
       "      <th></th>\n",
       "    </tr>\n",
       "  </thead>\n",
       "  <tbody>\n",
       "    <tr>\n",
       "      <th>1</th>\n",
       "      <td>2839.181839</td>\n",
       "    </tr>\n",
       "    <tr>\n",
       "      <th>2</th>\n",
       "      <td>3087.641692</td>\n",
       "    </tr>\n",
       "    <tr>\n",
       "      <th>3</th>\n",
       "      <td>3075.633155</td>\n",
       "    </tr>\n",
       "    <tr>\n",
       "      <th>4</th>\n",
       "      <td>3202.656423</td>\n",
       "    </tr>\n",
       "    <tr>\n",
       "      <th>5</th>\n",
       "      <td>3232.449968</td>\n",
       "    </tr>\n",
       "    <tr>\n",
       "      <th>6</th>\n",
       "      <td>3407.860669</td>\n",
       "    </tr>\n",
       "    <tr>\n",
       "      <th>7</th>\n",
       "      <td>3044.217447</td>\n",
       "    </tr>\n",
       "    <tr>\n",
       "      <th>8</th>\n",
       "      <td>3150.852291</td>\n",
       "    </tr>\n",
       "    <tr>\n",
       "      <th>9</th>\n",
       "      <td>2966.367784</td>\n",
       "    </tr>\n",
       "    <tr>\n",
       "      <th>10</th>\n",
       "      <td>2952.822611</td>\n",
       "    </tr>\n",
       "  </tbody>\n",
       "</table>\n",
       "</div>"
      ],
      "text/plain": [
       "            distance\n",
       "user_id             \n",
       "1        2839.181839\n",
       "2        3087.641692\n",
       "3        3075.633155\n",
       "4        3202.656423\n",
       "5        3232.449968\n",
       "6        3407.860669\n",
       "7        3044.217447\n",
       "8        3150.852291\n",
       "9        2966.367784\n",
       "10       2952.822611"
      ]
     },
     "execution_count": 19,
     "metadata": {},
     "output_type": "execute_result"
    }
   ],
   "source": [
    "rides.pivot_table(index='user_id', values='distance', aggfunc='mean')[:10]"
   ]
  },
  {
   "cell_type": "code",
   "execution_count": 20,
   "id": "19f642b6-da26-4707-9119-8f2ff11cd96d",
   "metadata": {},
   "outputs": [
    {
     "data": {
      "image/png": "[encoded data removed]",
      "text/plain": [
       "<Figure size 1200x500 with 1 Axes>"
      ]
     },
     "metadata": {},
     "output_type": "display_data"
    }
   ],
   "source": [
    "rides.distance.plot(kind='hist', bins=100, figsize=(12, 5),\n",
    "                    title='Среднее расстояние поездок на каждого пользователя в м', \n",
    "                    xlabel='Расстояние поездки, км', ylabel='Число пользователей', grid=True)\n",
    "plt.show()"
   ]
  },
  {
   "cell_type": "code",
   "execution_count": 21,
   "id": "fb97f1db-ba8c-441f-8069-f1ac0e2416be",
   "metadata": {},
   "outputs": [
    {
     "data": {
      "text/plain": [
       "count    18068.000000\n",
       "mean      3070.659976\n",
       "std       1116.831209\n",
       "min          0.855683\n",
       "25%       2543.226360\n",
       "50%       3133.609994\n",
       "75%       3776.222735\n",
       "max       7211.007745\n",
       "Name: distance, dtype: float64"
      ]
     },
     "execution_count": 21,
     "metadata": {},
     "output_type": "execute_result"
    }
   ],
   "source": [
    "rides.distance.describe()"
   ]
  },
  {
   "cell_type": "markdown",
   "id": "0271fae4-b2ab-4af8-b37c-8adb8c0c3e4e",
   "metadata": {},
   "source": [
    "В среднем пользователь проезжает около 3 км. Плюс-минус 1 км. Есть интересный сегмент на графике - первый пик поездок до 1 км. Можно выделить этот сегмент пользователей и попробовать с ними отдельно поработать. Можно поизучать есть ли такая тенденция по всем городам или только в определенных Возможно это связано с расположением точек аренды и особенностей конкретной территории."
   ]
  },
  {
   "cell_type": "markdown",
   "id": "fa0d37e1-6bef-4de1-8278-7aca1b4779ee",
   "metadata": {},
   "source": [
    "### Продолжительность поездок"
   ]
  },
  {
   "cell_type": "code",
   "execution_count": 22,
   "id": "99df02ae-7a21-4d57-b173-45b8a729e53f",
   "metadata": {},
   "outputs": [
    {
     "data": {
      "image/png": "[encoded data removed]",
      "text/plain": [
       "<Figure size 1200x500 with 1 Axes>"
      ]
     },
     "metadata": {},
     "output_type": "display_data"
    }
   ],
   "source": [
    "rides.duration.plot(kind='hist', bins=100, figsize=(12, 5), title='Длительность поездок, мин', \n",
    "                    xlabel='Средняя продолжительность поездок, мин', ylabel='Число пользователей', grid=True)\n",
    "plt.show()"
   ]
  },
  {
   "cell_type": "code",
   "execution_count": 23,
   "id": "9fbd4a87-2fed-4fa2-8422-3c1e3b34ecf6",
   "metadata": {},
   "outputs": [
    {
     "data": {
      "text/plain": [
       "count    18068.000000\n",
       "mean        17.805011\n",
       "std          6.091051\n",
       "min          0.500000\n",
       "25%         13.597563\n",
       "50%         17.678395\n",
       "75%         21.724800\n",
       "max         40.823963\n",
       "Name: duration, dtype: float64"
      ]
     },
     "execution_count": 23,
     "metadata": {},
     "output_type": "execute_result"
    }
   ],
   "source": [
    "rides.duration.describe()"
   ]
  },
  {
   "cell_type": "markdown",
   "id": "f2823c22-b573-41c8-86fa-b12280f577b4",
   "metadata": {},
   "source": [
    "Средняя длительность одной поездки - около 17 минут. Плюс-минус 6 минут - от 10 до 25 минут. "
   ]
  },
  {
   "cell_type": "markdown",
   "id": "1e2e0b12-0c33-4c7b-a89a-8acc09bc1c28",
   "metadata": {},
   "source": [
    "### Объединение данных"
   ]
  },
  {
   "cell_type": "markdown",
   "id": "f5104469-3dee-4883-b324-6a5f9f662074",
   "metadata": {},
   "source": [
    "Объединяем данные из трех фреймов в один, проверяем."
   ]
  },
  {
   "cell_type": "code",
   "execution_count": 24,
   "id": "eb294b3d-c044-4226-bd42-8eb56c6fb9f2",
   "metadata": {},
   "outputs": [
    {
     "data": {
      "text/html": [
       "<div>\n",
       "<style scoped>\n",
       "    .dataframe tbody tr th:only-of-type {\n",
       "        vertical-align: middle;\n",
       "    }\n",
       "\n",
       "    .dataframe tbody tr th {\n",
       "        vertical-align: top;\n",
       "    }\n",
       "\n",
       "    .dataframe thead th {\n",
       "        text-align: right;\n",
       "    }\n",
       "</style>\n",
       "<table border=\"1\" class=\"dataframe\">\n",
       "  <thead>\n",
       "    <tr style=\"text-align: right;\">\n",
       "      <th></th>\n",
       "      <th>user_id</th>\n",
       "      <th>name</th>\n",
       "      <th>age</th>\n",
       "      <th>city</th>\n",
       "      <th>subscription_type</th>\n",
       "      <th>distance</th>\n",
       "      <th>duration</th>\n",
       "      <th>date</th>\n",
       "      <th>month</th>\n",
       "      <th>minute_price</th>\n",
       "      <th>start_ride_price</th>\n",
       "      <th>subscription_fee</th>\n",
       "    </tr>\n",
       "  </thead>\n",
       "  <tbody>\n",
       "    <tr>\n",
       "      <th>0</th>\n",
       "      <td>1</td>\n",
       "      <td>Кира</td>\n",
       "      <td>22</td>\n",
       "      <td>Тюмень</td>\n",
       "      <td>ultra</td>\n",
       "      <td>4409.919140</td>\n",
       "      <td>25.599769</td>\n",
       "      <td>2021-01-01</td>\n",
       "      <td>1</td>\n",
       "      <td>6</td>\n",
       "      <td>0</td>\n",
       "      <td>199</td>\n",
       "    </tr>\n",
       "    <tr>\n",
       "      <th>1</th>\n",
       "      <td>1</td>\n",
       "      <td>Кира</td>\n",
       "      <td>22</td>\n",
       "      <td>Тюмень</td>\n",
       "      <td>ultra</td>\n",
       "      <td>2617.592153</td>\n",
       "      <td>15.816871</td>\n",
       "      <td>2021-01-18</td>\n",
       "      <td>1</td>\n",
       "      <td>6</td>\n",
       "      <td>0</td>\n",
       "      <td>199</td>\n",
       "    </tr>\n",
       "    <tr>\n",
       "      <th>2</th>\n",
       "      <td>1</td>\n",
       "      <td>Кира</td>\n",
       "      <td>22</td>\n",
       "      <td>Тюмень</td>\n",
       "      <td>ultra</td>\n",
       "      <td>754.159807</td>\n",
       "      <td>6.232113</td>\n",
       "      <td>2021-04-20</td>\n",
       "      <td>4</td>\n",
       "      <td>6</td>\n",
       "      <td>0</td>\n",
       "      <td>199</td>\n",
       "    </tr>\n",
       "    <tr>\n",
       "      <th>3</th>\n",
       "      <td>1</td>\n",
       "      <td>Кира</td>\n",
       "      <td>22</td>\n",
       "      <td>Тюмень</td>\n",
       "      <td>ultra</td>\n",
       "      <td>2694.783254</td>\n",
       "      <td>18.511000</td>\n",
       "      <td>2021-08-11</td>\n",
       "      <td>8</td>\n",
       "      <td>6</td>\n",
       "      <td>0</td>\n",
       "      <td>199</td>\n",
       "    </tr>\n",
       "    <tr>\n",
       "      <th>4</th>\n",
       "      <td>1</td>\n",
       "      <td>Кира</td>\n",
       "      <td>22</td>\n",
       "      <td>Тюмень</td>\n",
       "      <td>ultra</td>\n",
       "      <td>4028.687306</td>\n",
       "      <td>26.265803</td>\n",
       "      <td>2021-08-28</td>\n",
       "      <td>8</td>\n",
       "      <td>6</td>\n",
       "      <td>0</td>\n",
       "      <td>199</td>\n",
       "    </tr>\n",
       "    <tr>\n",
       "      <th>5</th>\n",
       "      <td>1</td>\n",
       "      <td>Кира</td>\n",
       "      <td>22</td>\n",
       "      <td>Тюмень</td>\n",
       "      <td>ultra</td>\n",
       "      <td>2770.890808</td>\n",
       "      <td>16.650138</td>\n",
       "      <td>2021-10-09</td>\n",
       "      <td>10</td>\n",
       "      <td>6</td>\n",
       "      <td>0</td>\n",
       "      <td>199</td>\n",
       "    </tr>\n",
       "    <tr>\n",
       "      <th>6</th>\n",
       "      <td>1</td>\n",
       "      <td>Кира</td>\n",
       "      <td>22</td>\n",
       "      <td>Тюмень</td>\n",
       "      <td>ultra</td>\n",
       "      <td>3039.020292</td>\n",
       "      <td>14.927879</td>\n",
       "      <td>2021-10-19</td>\n",
       "      <td>10</td>\n",
       "      <td>6</td>\n",
       "      <td>0</td>\n",
       "      <td>199</td>\n",
       "    </tr>\n",
       "    <tr>\n",
       "      <th>7</th>\n",
       "      <td>1</td>\n",
       "      <td>Кира</td>\n",
       "      <td>22</td>\n",
       "      <td>Тюмень</td>\n",
       "      <td>ultra</td>\n",
       "      <td>2842.118050</td>\n",
       "      <td>23.117468</td>\n",
       "      <td>2021-11-06</td>\n",
       "      <td>11</td>\n",
       "      <td>6</td>\n",
       "      <td>0</td>\n",
       "      <td>199</td>\n",
       "    </tr>\n",
       "    <tr>\n",
       "      <th>8</th>\n",
       "      <td>1</td>\n",
       "      <td>Кира</td>\n",
       "      <td>22</td>\n",
       "      <td>Тюмень</td>\n",
       "      <td>ultra</td>\n",
       "      <td>3412.690668</td>\n",
       "      <td>15.238072</td>\n",
       "      <td>2021-11-14</td>\n",
       "      <td>11</td>\n",
       "      <td>6</td>\n",
       "      <td>0</td>\n",
       "      <td>199</td>\n",
       "    </tr>\n",
       "    <tr>\n",
       "      <th>9</th>\n",
       "      <td>1</td>\n",
       "      <td>Кира</td>\n",
       "      <td>22</td>\n",
       "      <td>Тюмень</td>\n",
       "      <td>ultra</td>\n",
       "      <td>748.690645</td>\n",
       "      <td>15.041884</td>\n",
       "      <td>2021-11-22</td>\n",
       "      <td>11</td>\n",
       "      <td>6</td>\n",
       "      <td>0</td>\n",
       "      <td>199</td>\n",
       "    </tr>\n",
       "    <tr>\n",
       "      <th>10</th>\n",
       "      <td>1</td>\n",
       "      <td>Кира</td>\n",
       "      <td>22</td>\n",
       "      <td>Тюмень</td>\n",
       "      <td>ultra</td>\n",
       "      <td>4031.020195</td>\n",
       "      <td>17.674448</td>\n",
       "      <td>2021-12-14</td>\n",
       "      <td>12</td>\n",
       "      <td>6</td>\n",
       "      <td>0</td>\n",
       "      <td>199</td>\n",
       "    </tr>\n",
       "    <tr>\n",
       "      <th>11</th>\n",
       "      <td>1</td>\n",
       "      <td>Кира</td>\n",
       "      <td>22</td>\n",
       "      <td>Тюмень</td>\n",
       "      <td>ultra</td>\n",
       "      <td>2720.609748</td>\n",
       "      <td>9.529463</td>\n",
       "      <td>2021-12-22</td>\n",
       "      <td>12</td>\n",
       "      <td>6</td>\n",
       "      <td>0</td>\n",
       "      <td>199</td>\n",
       "    </tr>\n",
       "    <tr>\n",
       "      <th>12</th>\n",
       "      <td>2</td>\n",
       "      <td>Станислав</td>\n",
       "      <td>31</td>\n",
       "      <td>Омск</td>\n",
       "      <td>ultra</td>\n",
       "      <td>3105.086678</td>\n",
       "      <td>24.307514</td>\n",
       "      <td>2021-03-15</td>\n",
       "      <td>3</td>\n",
       "      <td>6</td>\n",
       "      <td>0</td>\n",
       "      <td>199</td>\n",
       "    </tr>\n",
       "    <tr>\n",
       "      <th>13</th>\n",
       "      <td>2</td>\n",
       "      <td>Станислав</td>\n",
       "      <td>31</td>\n",
       "      <td>Омск</td>\n",
       "      <td>ultra</td>\n",
       "      <td>3053.519401</td>\n",
       "      <td>11.543256</td>\n",
       "      <td>2021-03-18</td>\n",
       "      <td>3</td>\n",
       "      <td>6</td>\n",
       "      <td>0</td>\n",
       "      <td>199</td>\n",
       "    </tr>\n",
       "    <tr>\n",
       "      <th>14</th>\n",
       "      <td>2</td>\n",
       "      <td>Станислав</td>\n",
       "      <td>31</td>\n",
       "      <td>Омск</td>\n",
       "      <td>ultra</td>\n",
       "      <td>4029.116927</td>\n",
       "      <td>25.109188</td>\n",
       "      <td>2021-03-23</td>\n",
       "      <td>3</td>\n",
       "      <td>6</td>\n",
       "      <td>0</td>\n",
       "      <td>199</td>\n",
       "    </tr>\n",
       "  </tbody>\n",
       "</table>\n",
       "</div>"
      ],
      "text/plain": [
       "    user_id       name  age    city subscription_type     distance   duration  \\\n",
       "0         1       Кира   22  Тюмень             ultra  4409.919140  25.599769   \n",
       "1         1       Кира   22  Тюмень             ultra  2617.592153  15.816871   \n",
       "2         1       Кира   22  Тюмень             ultra   754.159807   6.232113   \n",
       "3         1       Кира   22  Тюмень             ultra  2694.783254  18.511000   \n",
       "4         1       Кира   22  Тюмень             ultra  4028.687306  26.265803   \n",
       "5         1       Кира   22  Тюмень             ultra  2770.890808  16.650138   \n",
       "6         1       Кира   22  Тюмень             ultra  3039.020292  14.927879   \n",
       "7         1       Кира   22  Тюмень             ultra  2842.118050  23.117468   \n",
       "8         1       Кира   22  Тюмень             ultra  3412.690668  15.238072   \n",
       "9         1       Кира   22  Тюмень             ultra   748.690645  15.041884   \n",
       "10        1       Кира   22  Тюмень             ultra  4031.020195  17.674448   \n",
       "11        1       Кира   22  Тюмень             ultra  2720.609748   9.529463   \n",
       "12        2  Станислав   31    Омск             ultra  3105.086678  24.307514   \n",
       "13        2  Станислав   31    Омск             ultra  3053.519401  11.543256   \n",
       "14        2  Станислав   31    Омск             ultra  4029.116927  25.109188   \n",
       "\n",
       "         date  month  minute_price  start_ride_price  subscription_fee  \n",
       "0  2021-01-01      1             6                 0               199  \n",
       "1  2021-01-18      1             6                 0               199  \n",
       "2  2021-04-20      4             6                 0               199  \n",
       "3  2021-08-11      8             6                 0               199  \n",
       "4  2021-08-28      8             6                 0               199  \n",
       "5  2021-10-09     10             6                 0               199  \n",
       "6  2021-10-19     10             6                 0               199  \n",
       "7  2021-11-06     11             6                 0               199  \n",
       "8  2021-11-14     11             6                 0               199  \n",
       "9  2021-11-22     11             6                 0               199  \n",
       "10 2021-12-14     12             6                 0               199  \n",
       "11 2021-12-22     12             6                 0               199  \n",
       "12 2021-03-15      3             6                 0               199  \n",
       "13 2021-03-18      3             6                 0               199  \n",
       "14 2021-03-23      3             6                 0               199  "
      ]
     },
     "execution_count": 24,
     "metadata": {},
     "output_type": "execute_result"
    }
   ],
   "source": [
    "df = users.copy()\n",
    "df = df.merge(rides, on='user_id')\n",
    "df = df.merge(subscriptions, on='subscription_type')\n",
    "df.head(15)"
   ]
  },
  {
   "cell_type": "markdown",
   "id": "020c0437-30c0-48c2-93d0-d985006824bf",
   "metadata": {},
   "source": [
    "Проверяем на дубли и пропуски"
   ]
  },
  {
   "cell_type": "code",
   "execution_count": 25,
   "id": "338bdf02-5c78-4824-99b2-faf379d52f46",
   "metadata": {},
   "outputs": [
    {
     "name": "stdout",
     "output_type": "stream",
     "text": [
      "Дубликатов: 0\n",
      "user_id              0\n",
      "name                 0\n",
      "age                  0\n",
      "city                 0\n",
      "subscription_type    0\n",
      "distance             0\n",
      "duration             0\n",
      "date                 0\n",
      "month                0\n",
      "minute_price         0\n",
      "start_ride_price     0\n",
      "subscription_fee     0\n",
      "dtype: int64\n"
     ]
    }
   ],
   "source": [
    "print('Дубликатов:', df.duplicated().sum())\n",
    "print(df.isna().sum())"
   ]
  },
  {
   "cell_type": "markdown",
   "id": "54880abc-849c-4bbe-9ae1-1589783d760c",
   "metadata": {},
   "source": [
    "Выделим фреймы по наличию у пользователя подписки."
   ]
  },
  {
   "cell_type": "code",
   "execution_count": 26,
   "id": "4b35bd16-c6f3-4e7a-8831-ec1cb37c1b03",
   "metadata": {},
   "outputs": [
    {
     "data": {
      "text/html": [
       "<div>\n",
       "<style scoped>\n",
       "    .dataframe tbody tr th:only-of-type {\n",
       "        vertical-align: middle;\n",
       "    }\n",
       "\n",
       "    .dataframe tbody tr th {\n",
       "        vertical-align: top;\n",
       "    }\n",
       "\n",
       "    .dataframe thead th {\n",
       "        text-align: right;\n",
       "    }\n",
       "</style>\n",
       "<table border=\"1\" class=\"dataframe\">\n",
       "  <thead>\n",
       "    <tr style=\"text-align: right;\">\n",
       "      <th></th>\n",
       "      <th>user_id</th>\n",
       "      <th>name</th>\n",
       "      <th>age</th>\n",
       "      <th>city</th>\n",
       "      <th>subscription_type</th>\n",
       "      <th>distance</th>\n",
       "      <th>duration</th>\n",
       "      <th>date</th>\n",
       "      <th>month</th>\n",
       "      <th>minute_price</th>\n",
       "      <th>start_ride_price</th>\n",
       "      <th>subscription_fee</th>\n",
       "    </tr>\n",
       "  </thead>\n",
       "  <tbody>\n",
       "    <tr>\n",
       "      <th>6500</th>\n",
       "      <td>700</td>\n",
       "      <td>Айдар</td>\n",
       "      <td>22</td>\n",
       "      <td>Омск</td>\n",
       "      <td>free</td>\n",
       "      <td>2515.690719</td>\n",
       "      <td>14.944286</td>\n",
       "      <td>2021-01-02</td>\n",
       "      <td>1</td>\n",
       "      <td>8</td>\n",
       "      <td>50</td>\n",
       "      <td>0</td>\n",
       "    </tr>\n",
       "    <tr>\n",
       "      <th>6501</th>\n",
       "      <td>700</td>\n",
       "      <td>Айдар</td>\n",
       "      <td>22</td>\n",
       "      <td>Омск</td>\n",
       "      <td>free</td>\n",
       "      <td>846.932642</td>\n",
       "      <td>16.234663</td>\n",
       "      <td>2021-02-01</td>\n",
       "      <td>2</td>\n",
       "      <td>8</td>\n",
       "      <td>50</td>\n",
       "      <td>0</td>\n",
       "    </tr>\n",
       "    <tr>\n",
       "      <th>6502</th>\n",
       "      <td>700</td>\n",
       "      <td>Айдар</td>\n",
       "      <td>22</td>\n",
       "      <td>Омск</td>\n",
       "      <td>free</td>\n",
       "      <td>4004.434142</td>\n",
       "      <td>20.016628</td>\n",
       "      <td>2021-02-04</td>\n",
       "      <td>2</td>\n",
       "      <td>8</td>\n",
       "      <td>50</td>\n",
       "      <td>0</td>\n",
       "    </tr>\n",
       "    <tr>\n",
       "      <th>6503</th>\n",
       "      <td>700</td>\n",
       "      <td>Айдар</td>\n",
       "      <td>22</td>\n",
       "      <td>Омск</td>\n",
       "      <td>free</td>\n",
       "      <td>1205.911290</td>\n",
       "      <td>9.782872</td>\n",
       "      <td>2021-02-10</td>\n",
       "      <td>2</td>\n",
       "      <td>8</td>\n",
       "      <td>50</td>\n",
       "      <td>0</td>\n",
       "    </tr>\n",
       "    <tr>\n",
       "      <th>6504</th>\n",
       "      <td>700</td>\n",
       "      <td>Айдар</td>\n",
       "      <td>22</td>\n",
       "      <td>Омск</td>\n",
       "      <td>free</td>\n",
       "      <td>3047.379435</td>\n",
       "      <td>17.427673</td>\n",
       "      <td>2021-02-14</td>\n",
       "      <td>2</td>\n",
       "      <td>8</td>\n",
       "      <td>50</td>\n",
       "      <td>0</td>\n",
       "    </tr>\n",
       "  </tbody>\n",
       "</table>\n",
       "</div>"
      ],
      "text/plain": [
       "      user_id   name  age  city subscription_type     distance   duration  \\\n",
       "6500      700  Айдар   22  Омск              free  2515.690719  14.944286   \n",
       "6501      700  Айдар   22  Омск              free   846.932642  16.234663   \n",
       "6502      700  Айдар   22  Омск              free  4004.434142  20.016628   \n",
       "6503      700  Айдар   22  Омск              free  1205.911290   9.782872   \n",
       "6504      700  Айдар   22  Омск              free  3047.379435  17.427673   \n",
       "\n",
       "           date  month  minute_price  start_ride_price  subscription_fee  \n",
       "6500 2021-01-02      1             8                50                 0  \n",
       "6501 2021-02-01      2             8                50                 0  \n",
       "6502 2021-02-04      2             8                50                 0  \n",
       "6503 2021-02-10      2             8                50                 0  \n",
       "6504 2021-02-14      2             8                50                 0  "
      ]
     },
     "execution_count": 26,
     "metadata": {},
     "output_type": "execute_result"
    }
   ],
   "source": [
    "df_free = df[df['subscription_type']=='free']\n",
    "df_free.head()"
   ]
  },
  {
   "cell_type": "code",
   "execution_count": 27,
   "id": "ebdfa27e-5e37-4b40-bd7f-c1a6a9969a58",
   "metadata": {},
   "outputs": [
    {
     "data": {
      "text/html": [
       "<div>\n",
       "<style scoped>\n",
       "    .dataframe tbody tr th:only-of-type {\n",
       "        vertical-align: middle;\n",
       "    }\n",
       "\n",
       "    .dataframe tbody tr th {\n",
       "        vertical-align: top;\n",
       "    }\n",
       "\n",
       "    .dataframe thead th {\n",
       "        text-align: right;\n",
       "    }\n",
       "</style>\n",
       "<table border=\"1\" class=\"dataframe\">\n",
       "  <thead>\n",
       "    <tr style=\"text-align: right;\">\n",
       "      <th></th>\n",
       "      <th>user_id</th>\n",
       "      <th>name</th>\n",
       "      <th>age</th>\n",
       "      <th>city</th>\n",
       "      <th>subscription_type</th>\n",
       "      <th>distance</th>\n",
       "      <th>duration</th>\n",
       "      <th>date</th>\n",
       "      <th>month</th>\n",
       "      <th>minute_price</th>\n",
       "      <th>start_ride_price</th>\n",
       "      <th>subscription_fee</th>\n",
       "    </tr>\n",
       "  </thead>\n",
       "  <tbody>\n",
       "    <tr>\n",
       "      <th>0</th>\n",
       "      <td>1</td>\n",
       "      <td>Кира</td>\n",
       "      <td>22</td>\n",
       "      <td>Тюмень</td>\n",
       "      <td>ultra</td>\n",
       "      <td>4409.919140</td>\n",
       "      <td>25.599769</td>\n",
       "      <td>2021-01-01</td>\n",
       "      <td>1</td>\n",
       "      <td>6</td>\n",
       "      <td>0</td>\n",
       "      <td>199</td>\n",
       "    </tr>\n",
       "    <tr>\n",
       "      <th>1</th>\n",
       "      <td>1</td>\n",
       "      <td>Кира</td>\n",
       "      <td>22</td>\n",
       "      <td>Тюмень</td>\n",
       "      <td>ultra</td>\n",
       "      <td>2617.592153</td>\n",
       "      <td>15.816871</td>\n",
       "      <td>2021-01-18</td>\n",
       "      <td>1</td>\n",
       "      <td>6</td>\n",
       "      <td>0</td>\n",
       "      <td>199</td>\n",
       "    </tr>\n",
       "    <tr>\n",
       "      <th>2</th>\n",
       "      <td>1</td>\n",
       "      <td>Кира</td>\n",
       "      <td>22</td>\n",
       "      <td>Тюмень</td>\n",
       "      <td>ultra</td>\n",
       "      <td>754.159807</td>\n",
       "      <td>6.232113</td>\n",
       "      <td>2021-04-20</td>\n",
       "      <td>4</td>\n",
       "      <td>6</td>\n",
       "      <td>0</td>\n",
       "      <td>199</td>\n",
       "    </tr>\n",
       "    <tr>\n",
       "      <th>3</th>\n",
       "      <td>1</td>\n",
       "      <td>Кира</td>\n",
       "      <td>22</td>\n",
       "      <td>Тюмень</td>\n",
       "      <td>ultra</td>\n",
       "      <td>2694.783254</td>\n",
       "      <td>18.511000</td>\n",
       "      <td>2021-08-11</td>\n",
       "      <td>8</td>\n",
       "      <td>6</td>\n",
       "      <td>0</td>\n",
       "      <td>199</td>\n",
       "    </tr>\n",
       "    <tr>\n",
       "      <th>4</th>\n",
       "      <td>1</td>\n",
       "      <td>Кира</td>\n",
       "      <td>22</td>\n",
       "      <td>Тюмень</td>\n",
       "      <td>ultra</td>\n",
       "      <td>4028.687306</td>\n",
       "      <td>26.265803</td>\n",
       "      <td>2021-08-28</td>\n",
       "      <td>8</td>\n",
       "      <td>6</td>\n",
       "      <td>0</td>\n",
       "      <td>199</td>\n",
       "    </tr>\n",
       "  </tbody>\n",
       "</table>\n",
       "</div>"
      ],
      "text/plain": [
       "   user_id  name  age    city subscription_type     distance   duration  \\\n",
       "0        1  Кира   22  Тюмень             ultra  4409.919140  25.599769   \n",
       "1        1  Кира   22  Тюмень             ultra  2617.592153  15.816871   \n",
       "2        1  Кира   22  Тюмень             ultra   754.159807   6.232113   \n",
       "3        1  Кира   22  Тюмень             ultra  2694.783254  18.511000   \n",
       "4        1  Кира   22  Тюмень             ultra  4028.687306  26.265803   \n",
       "\n",
       "        date  month  minute_price  start_ride_price  subscription_fee  \n",
       "0 2021-01-01      1             6                 0               199  \n",
       "1 2021-01-18      1             6                 0               199  \n",
       "2 2021-04-20      4             6                 0               199  \n",
       "3 2021-08-11      8             6                 0               199  \n",
       "4 2021-08-28      8             6                 0               199  "
      ]
     },
     "execution_count": 27,
     "metadata": {},
     "output_type": "execute_result"
    }
   ],
   "source": [
    "df_ultra = df[df['subscription_type']=='ultra']\n",
    "df_ultra.head()"
   ]
  },
  {
   "cell_type": "markdown",
   "id": "67d90918-e7f2-49e8-bbb8-0c42354ec789",
   "metadata": {},
   "source": [
    "Построим распределение времени поездок."
   ]
  },
  {
   "cell_type": "code",
   "execution_count": 28,
   "id": "679a1151-a2b9-41fa-8c19-99b854729e06",
   "metadata": {},
   "outputs": [
    {
     "data": {
      "image/png": "[encoded data removed]",
      "text/plain": [
       "<Figure size 1200x500 with 1 Axes>"
      ]
     },
     "metadata": {},
     "output_type": "display_data"
    }
   ],
   "source": [
    "ax = df_free.duration.plot(kind='hist', bins=100, title='Длительность поездок, мин', figsize=(12,5), label='Без подписки',\n",
    "                    xlabel='Средняя продолжительность поездок, мин', ylabel='Число пользователей', grid=True,\n",
    "                    )\n",
    "df_ultra.duration.plot(ax=ax, kind='hist', bins=100, title='Длительность поездок, мин', alpha=0.7, label='С подпиской',\n",
    "                    xlabel='Средняя продолжительность поездок, мин', ylabel='Число пользователей', grid=True)\n",
    "plt.legend()\n",
    "plt.show()"
   ]
  },
  {
   "cell_type": "markdown",
   "id": "9987933e-9b5e-49fd-9f19-f5bc8008c86f",
   "metadata": {},
   "source": [
    "Распределение расстояния поездок."
   ]
  },
  {
   "cell_type": "code",
   "execution_count": 29,
   "id": "060b970c-e389-4acd-9df2-ef5418210016",
   "metadata": {},
   "outputs": [
    {
     "data": {
      "image/png": "[encoded data removed]",
      "text/plain": [
       "<Figure size 1200x500 with 1 Axes>"
      ]
     },
     "metadata": {},
     "output_type": "display_data"
    }
   ],
   "source": [
    "ax = df_free.distance.plot(kind='hist', bins=100, title='Дальность поездок, м', alpha=0.9, figsize=(12, 5),\n",
    "                    xlabel='Средняя дальность поездок, м', ylabel='Число пользователей', grid=True, label='Без подписки')\n",
    "df_ultra.distance.plot(ax=ax, kind='hist', bins=100, title='Дальность поездок, м', alpha=0.7, label='С подпиской',\n",
    "                    xlabel='Средняя дальность поездок, м', ylabel='Число пользователей', grid=True)\n",
    "plt.legend()\n",
    "plt.show()"
   ]
  },
  {
   "cell_type": "markdown",
   "id": "accb9c95-81ed-4291-ac87-1804792763bb",
   "metadata": {},
   "source": [
    "Распределения средней продолжтительности поездок похожи. У дальности поездок есть отличающиеся пики."
   ]
  },
  {
   "cell_type": "code",
   "execution_count": 30,
   "id": "b2373580-d28f-4ed7-bef2-e45e8aae8b72",
   "metadata": {},
   "outputs": [
    {
     "data": {
      "image/png": "[encoded data removed]",
      "text/plain": [
       "<Figure size 1000x400 with 1 Axes>"
      ]
     },
     "metadata": {},
     "output_type": "display_data"
    }
   ],
   "source": [
    "ax = df.boxplot(column='distance', by='subscription_type',\n",
    "                 showmeans=True, showcaps=True, \n",
    "                  showbox=True, vert=False,\n",
    "                  figsize=(10,4),\n",
    "                 )\n",
    "plt.title('Протяженность поездок в зависимости от тарифа')\n",
    "plt.suptitle('')\n",
    "plt.ylabel('Тариф')\n",
    "plt.xlabel('Расстояние, м')\n",
    "plt.show()"
   ]
  },
  {
   "cell_type": "code",
   "execution_count": 31,
   "id": "c438bd1b-98e6-4f6c-8273-3b649d7fec31",
   "metadata": {},
   "outputs": [
    {
     "data": {
      "image/png": "[encoded data removed]",
      "text/plain": [
       "<Figure size 1000x400 with 1 Axes>"
      ]
     },
     "metadata": {},
     "output_type": "display_data"
    }
   ],
   "source": [
    "ax = df.boxplot(column='duration', by='subscription_type',\n",
    "                 showmeans=True, showcaps=True, \n",
    "                  showbox=True, showfliers=False, \n",
    "                  vert=False, figsize=(10,4),\n",
    "                 )\n",
    "plt.title('Длительность поездок в зависимости от тарифа')\n",
    "plt.suptitle('')\n",
    "plt.ylabel('Тариф')\n",
    "plt.xlabel('Время, мин')\n",
    "plt.show()"
   ]
  },
  {
   "cell_type": "markdown",
   "id": "cdc03a26-32f6-4965-9dbd-26140f79d262",
   "metadata": {},
   "source": [
    "**Вывод:** Средняя продолжительность поездок у пользователей с подпиской - выше. "
   ]
  },
  {
   "cell_type": "markdown",
   "id": "e9293a6f-7c25-42a9-872c-b3f0226c3bfd",
   "metadata": {},
   "source": [
    "## Подсчёт выручки"
   ]
  },
  {
   "cell_type": "markdown",
   "id": "1beaf19c-7baf-4ce8-a1b9-3ae63397f854",
   "metadata": {},
   "source": [
    "Посчитаем суммарное расстояние, количество поездок и суммарное время для каждого пользователя за каждый месяц.\n",
    "Округлим длительность поездок до поплной минуты."
   ]
  },
  {
   "cell_type": "code",
   "execution_count": 32,
   "id": "cb0f93af-b49b-4668-8842-1695ab78a0b9",
   "metadata": {},
   "outputs": [],
   "source": [
    "df['duration'] = np.ceil(df['duration']) "
   ]
  },
  {
   "cell_type": "code",
   "execution_count": 33,
   "id": "7a21c8b0-bb47-4918-a7b0-ce7185c9f1d6",
   "metadata": {},
   "outputs": [
    {
     "data": {
      "text/html": [
       "<div>\n",
       "<style scoped>\n",
       "    .dataframe tbody tr th:only-of-type {\n",
       "        vertical-align: middle;\n",
       "    }\n",
       "\n",
       "    .dataframe tbody tr th {\n",
       "        vertical-align: top;\n",
       "    }\n",
       "\n",
       "    .dataframe thead th {\n",
       "        text-align: right;\n",
       "    }\n",
       "</style>\n",
       "<table border=\"1\" class=\"dataframe\">\n",
       "  <thead>\n",
       "    <tr style=\"text-align: right;\">\n",
       "      <th></th>\n",
       "      <th>user_id</th>\n",
       "      <th>month</th>\n",
       "      <th>city</th>\n",
       "      <th>quantity</th>\n",
       "      <th>distance</th>\n",
       "      <th>duration</th>\n",
       "      <th>minute_price</th>\n",
       "      <th>start_ride_price</th>\n",
       "      <th>subscription_fee</th>\n",
       "      <th>subscription_type</th>\n",
       "    </tr>\n",
       "  </thead>\n",
       "  <tbody>\n",
       "    <tr>\n",
       "      <th>0</th>\n",
       "      <td>1</td>\n",
       "      <td>1</td>\n",
       "      <td>Тюмень</td>\n",
       "      <td>2</td>\n",
       "      <td>7027.511294</td>\n",
       "      <td>42.0</td>\n",
       "      <td>6</td>\n",
       "      <td>0</td>\n",
       "      <td>199</td>\n",
       "      <td>ultra</td>\n",
       "    </tr>\n",
       "    <tr>\n",
       "      <th>1</th>\n",
       "      <td>1</td>\n",
       "      <td>4</td>\n",
       "      <td>Тюмень</td>\n",
       "      <td>1</td>\n",
       "      <td>754.159807</td>\n",
       "      <td>7.0</td>\n",
       "      <td>6</td>\n",
       "      <td>0</td>\n",
       "      <td>199</td>\n",
       "      <td>ultra</td>\n",
       "    </tr>\n",
       "    <tr>\n",
       "      <th>2</th>\n",
       "      <td>1</td>\n",
       "      <td>8</td>\n",
       "      <td>Тюмень</td>\n",
       "      <td>2</td>\n",
       "      <td>6723.470560</td>\n",
       "      <td>46.0</td>\n",
       "      <td>6</td>\n",
       "      <td>0</td>\n",
       "      <td>199</td>\n",
       "      <td>ultra</td>\n",
       "    </tr>\n",
       "    <tr>\n",
       "      <th>3</th>\n",
       "      <td>1</td>\n",
       "      <td>10</td>\n",
       "      <td>Тюмень</td>\n",
       "      <td>2</td>\n",
       "      <td>5809.911100</td>\n",
       "      <td>32.0</td>\n",
       "      <td>6</td>\n",
       "      <td>0</td>\n",
       "      <td>199</td>\n",
       "      <td>ultra</td>\n",
       "    </tr>\n",
       "    <tr>\n",
       "      <th>4</th>\n",
       "      <td>1</td>\n",
       "      <td>11</td>\n",
       "      <td>Тюмень</td>\n",
       "      <td>3</td>\n",
       "      <td>7003.499363</td>\n",
       "      <td>56.0</td>\n",
       "      <td>6</td>\n",
       "      <td>0</td>\n",
       "      <td>199</td>\n",
       "      <td>ultra</td>\n",
       "    </tr>\n",
       "    <tr>\n",
       "      <th>5</th>\n",
       "      <td>1</td>\n",
       "      <td>12</td>\n",
       "      <td>Тюмень</td>\n",
       "      <td>2</td>\n",
       "      <td>6751.629942</td>\n",
       "      <td>28.0</td>\n",
       "      <td>6</td>\n",
       "      <td>0</td>\n",
       "      <td>199</td>\n",
       "      <td>ultra</td>\n",
       "    </tr>\n",
       "    <tr>\n",
       "      <th>6</th>\n",
       "      <td>2</td>\n",
       "      <td>3</td>\n",
       "      <td>Омск</td>\n",
       "      <td>3</td>\n",
       "      <td>10187.723006</td>\n",
       "      <td>63.0</td>\n",
       "      <td>6</td>\n",
       "      <td>0</td>\n",
       "      <td>199</td>\n",
       "      <td>ultra</td>\n",
       "    </tr>\n",
       "    <tr>\n",
       "      <th>7</th>\n",
       "      <td>2</td>\n",
       "      <td>4</td>\n",
       "      <td>Омск</td>\n",
       "      <td>2</td>\n",
       "      <td>6164.381824</td>\n",
       "      <td>40.0</td>\n",
       "      <td>6</td>\n",
       "      <td>0</td>\n",
       "      <td>199</td>\n",
       "      <td>ultra</td>\n",
       "    </tr>\n",
       "    <tr>\n",
       "      <th>8</th>\n",
       "      <td>2</td>\n",
       "      <td>6</td>\n",
       "      <td>Омск</td>\n",
       "      <td>1</td>\n",
       "      <td>3255.338202</td>\n",
       "      <td>14.0</td>\n",
       "      <td>6</td>\n",
       "      <td>0</td>\n",
       "      <td>199</td>\n",
       "      <td>ultra</td>\n",
       "    </tr>\n",
       "    <tr>\n",
       "      <th>9</th>\n",
       "      <td>2</td>\n",
       "      <td>7</td>\n",
       "      <td>Омск</td>\n",
       "      <td>2</td>\n",
       "      <td>6780.722964</td>\n",
       "      <td>48.0</td>\n",
       "      <td>6</td>\n",
       "      <td>0</td>\n",
       "      <td>199</td>\n",
       "      <td>ultra</td>\n",
       "    </tr>\n",
       "    <tr>\n",
       "      <th>10</th>\n",
       "      <td>2</td>\n",
       "      <td>8</td>\n",
       "      <td>Омск</td>\n",
       "      <td>1</td>\n",
       "      <td>923.007439</td>\n",
       "      <td>7.0</td>\n",
       "      <td>6</td>\n",
       "      <td>0</td>\n",
       "      <td>199</td>\n",
       "      <td>ultra</td>\n",
       "    </tr>\n",
       "    <tr>\n",
       "      <th>11</th>\n",
       "      <td>2</td>\n",
       "      <td>10</td>\n",
       "      <td>Омск</td>\n",
       "      <td>1</td>\n",
       "      <td>2824.636598</td>\n",
       "      <td>19.0</td>\n",
       "      <td>6</td>\n",
       "      <td>0</td>\n",
       "      <td>199</td>\n",
       "      <td>ultra</td>\n",
       "    </tr>\n",
       "    <tr>\n",
       "      <th>12</th>\n",
       "      <td>2</td>\n",
       "      <td>12</td>\n",
       "      <td>Омск</td>\n",
       "      <td>1</td>\n",
       "      <td>3828.248580</td>\n",
       "      <td>12.0</td>\n",
       "      <td>6</td>\n",
       "      <td>0</td>\n",
       "      <td>199</td>\n",
       "      <td>ultra</td>\n",
       "    </tr>\n",
       "    <tr>\n",
       "      <th>13</th>\n",
       "      <td>3</td>\n",
       "      <td>1</td>\n",
       "      <td>Москва</td>\n",
       "      <td>1</td>\n",
       "      <td>3061.777147</td>\n",
       "      <td>13.0</td>\n",
       "      <td>6</td>\n",
       "      <td>0</td>\n",
       "      <td>199</td>\n",
       "      <td>ultra</td>\n",
       "    </tr>\n",
       "    <tr>\n",
       "      <th>14</th>\n",
       "      <td>3</td>\n",
       "      <td>2</td>\n",
       "      <td>Москва</td>\n",
       "      <td>2</td>\n",
       "      <td>5421.152016</td>\n",
       "      <td>39.0</td>\n",
       "      <td>6</td>\n",
       "      <td>0</td>\n",
       "      <td>199</td>\n",
       "      <td>ultra</td>\n",
       "    </tr>\n",
       "  </tbody>\n",
       "</table>\n",
       "</div>"
      ],
      "text/plain": [
       "    user_id  month    city  quantity      distance  duration  minute_price  \\\n",
       "0         1      1  Тюмень         2   7027.511294      42.0             6   \n",
       "1         1      4  Тюмень         1    754.159807       7.0             6   \n",
       "2         1      8  Тюмень         2   6723.470560      46.0             6   \n",
       "3         1     10  Тюмень         2   5809.911100      32.0             6   \n",
       "4         1     11  Тюмень         3   7003.499363      56.0             6   \n",
       "5         1     12  Тюмень         2   6751.629942      28.0             6   \n",
       "6         2      3    Омск         3  10187.723006      63.0             6   \n",
       "7         2      4    Омск         2   6164.381824      40.0             6   \n",
       "8         2      6    Омск         1   3255.338202      14.0             6   \n",
       "9         2      7    Омск         2   6780.722964      48.0             6   \n",
       "10        2      8    Омск         1    923.007439       7.0             6   \n",
       "11        2     10    Омск         1   2824.636598      19.0             6   \n",
       "12        2     12    Омск         1   3828.248580      12.0             6   \n",
       "13        3      1  Москва         1   3061.777147      13.0             6   \n",
       "14        3      2  Москва         2   5421.152016      39.0             6   \n",
       "\n",
       "    start_ride_price  subscription_fee subscription_type  \n",
       "0                  0               199             ultra  \n",
       "1                  0               199             ultra  \n",
       "2                  0               199             ultra  \n",
       "3                  0               199             ultra  \n",
       "4                  0               199             ultra  \n",
       "5                  0               199             ultra  \n",
       "6                  0               199             ultra  \n",
       "7                  0               199             ultra  \n",
       "8                  0               199             ultra  \n",
       "9                  0               199             ultra  \n",
       "10                 0               199             ultra  \n",
       "11                 0               199             ultra  \n",
       "12                 0               199             ultra  \n",
       "13                 0               199             ultra  \n",
       "14                 0               199             ultra  "
      ]
     },
     "execution_count": 33,
     "metadata": {},
     "output_type": "execute_result"
    }
   ],
   "source": [
    "df_grouped = (pd.pivot_table(df, index=['user_id', 'month', 'city'], \n",
    "                        aggfunc=({'distance':['count', 'sum'], \n",
    "                                  'duration':'sum', \n",
    "                                  'subscription_type':['first'], \n",
    "                                  'minute_price': ['first'],\n",
    "                                  'start_ride_price': ['first'],\n",
    "                                  'subscription_fee': ['first']\n",
    "                                 }))\n",
    "          .droplevel(1, axis=1)\n",
    "          .reset_index()\n",
    "         )\n",
    "df_grouped.columns = ['user_id', 'month', 'city', 'quantity', 'distance', 'duration', 'minute_price', 'start_ride_price', 'subscription_fee', 'subscription_type']\n",
    "df_grouped.head(15)"
   ]
  },
  {
   "cell_type": "code",
   "execution_count": 34,
   "id": "8a5c22ff-a8ee-423b-abf8-6bca5a87a18f",
   "metadata": {},
   "outputs": [
    {
     "data": {
      "text/plain": [
       "user_id              0\n",
       "month                0\n",
       "city                 0\n",
       "quantity             0\n",
       "distance             0\n",
       "duration             0\n",
       "minute_price         0\n",
       "start_ride_price     0\n",
       "subscription_fee     0\n",
       "subscription_type    0\n",
       "dtype: int64"
      ]
     },
     "execution_count": 34,
     "metadata": {},
     "output_type": "execute_result"
    }
   ],
   "source": [
    "df_grouped.duplicated().sum()\n",
    "df_grouped.isna().sum()"
   ]
  },
  {
   "cell_type": "markdown",
   "id": "080dfff8-fcc8-4890-976d-e6b31b498f77",
   "metadata": {},
   "source": [
    "Считаем помесячную выручку по каждому клиенту"
   ]
  },
  {
   "cell_type": "code",
   "execution_count": 35,
   "id": "d8d2e373-a2cb-41c9-89ae-7ad8f5c24338",
   "metadata": {},
   "outputs": [
    {
     "data": {
      "text/html": [
       "<div>\n",
       "<style scoped>\n",
       "    .dataframe tbody tr th:only-of-type {\n",
       "        vertical-align: middle;\n",
       "    }\n",
       "\n",
       "    .dataframe tbody tr th {\n",
       "        vertical-align: top;\n",
       "    }\n",
       "\n",
       "    .dataframe thead th {\n",
       "        text-align: right;\n",
       "    }\n",
       "</style>\n",
       "<table border=\"1\" class=\"dataframe\">\n",
       "  <thead>\n",
       "    <tr style=\"text-align: right;\">\n",
       "      <th></th>\n",
       "      <th>user_id</th>\n",
       "      <th>month</th>\n",
       "      <th>city</th>\n",
       "      <th>quantity</th>\n",
       "      <th>distance</th>\n",
       "      <th>duration</th>\n",
       "      <th>minute_price</th>\n",
       "      <th>start_ride_price</th>\n",
       "      <th>subscription_fee</th>\n",
       "      <th>subscription_type</th>\n",
       "      <th>revenue</th>\n",
       "    </tr>\n",
       "  </thead>\n",
       "  <tbody>\n",
       "    <tr>\n",
       "      <th>0</th>\n",
       "      <td>1</td>\n",
       "      <td>1</td>\n",
       "      <td>Тюмень</td>\n",
       "      <td>2</td>\n",
       "      <td>7027.511294</td>\n",
       "      <td>42.0</td>\n",
       "      <td>6</td>\n",
       "      <td>0</td>\n",
       "      <td>199</td>\n",
       "      <td>ultra</td>\n",
       "      <td>451.0</td>\n",
       "    </tr>\n",
       "    <tr>\n",
       "      <th>1</th>\n",
       "      <td>1</td>\n",
       "      <td>4</td>\n",
       "      <td>Тюмень</td>\n",
       "      <td>1</td>\n",
       "      <td>754.159807</td>\n",
       "      <td>7.0</td>\n",
       "      <td>6</td>\n",
       "      <td>0</td>\n",
       "      <td>199</td>\n",
       "      <td>ultra</td>\n",
       "      <td>241.0</td>\n",
       "    </tr>\n",
       "    <tr>\n",
       "      <th>2</th>\n",
       "      <td>1</td>\n",
       "      <td>8</td>\n",
       "      <td>Тюмень</td>\n",
       "      <td>2</td>\n",
       "      <td>6723.470560</td>\n",
       "      <td>46.0</td>\n",
       "      <td>6</td>\n",
       "      <td>0</td>\n",
       "      <td>199</td>\n",
       "      <td>ultra</td>\n",
       "      <td>475.0</td>\n",
       "    </tr>\n",
       "    <tr>\n",
       "      <th>3</th>\n",
       "      <td>1</td>\n",
       "      <td>10</td>\n",
       "      <td>Тюмень</td>\n",
       "      <td>2</td>\n",
       "      <td>5809.911100</td>\n",
       "      <td>32.0</td>\n",
       "      <td>6</td>\n",
       "      <td>0</td>\n",
       "      <td>199</td>\n",
       "      <td>ultra</td>\n",
       "      <td>391.0</td>\n",
       "    </tr>\n",
       "    <tr>\n",
       "      <th>4</th>\n",
       "      <td>1</td>\n",
       "      <td>11</td>\n",
       "      <td>Тюмень</td>\n",
       "      <td>3</td>\n",
       "      <td>7003.499363</td>\n",
       "      <td>56.0</td>\n",
       "      <td>6</td>\n",
       "      <td>0</td>\n",
       "      <td>199</td>\n",
       "      <td>ultra</td>\n",
       "      <td>535.0</td>\n",
       "    </tr>\n",
       "  </tbody>\n",
       "</table>\n",
       "</div>"
      ],
      "text/plain": [
       "   user_id  month    city  quantity     distance  duration  minute_price  \\\n",
       "0        1      1  Тюмень         2  7027.511294      42.0             6   \n",
       "1        1      4  Тюмень         1   754.159807       7.0             6   \n",
       "2        1      8  Тюмень         2  6723.470560      46.0             6   \n",
       "3        1     10  Тюмень         2  5809.911100      32.0             6   \n",
       "4        1     11  Тюмень         3  7003.499363      56.0             6   \n",
       "\n",
       "   start_ride_price  subscription_fee subscription_type  revenue  \n",
       "0                 0               199             ultra    451.0  \n",
       "1                 0               199             ultra    241.0  \n",
       "2                 0               199             ultra    475.0  \n",
       "3                 0               199             ultra    391.0  \n",
       "4                 0               199             ultra    535.0  "
      ]
     },
     "execution_count": 35,
     "metadata": {},
     "output_type": "execute_result"
    }
   ],
   "source": [
    "df_grouped['revenue'] = df_grouped.start_ride_price * df_grouped.quantity + df_grouped.minute_price * df_grouped.duration + df_grouped.subscription_fee\n",
    "df_grouped.head()"
   ]
  },
  {
   "cell_type": "markdown",
   "id": "27342b6d-cd51-43f2-aee1-d64bec6503f6",
   "metadata": {},
   "source": [
    "Выручка по тарифам и городам."
   ]
  },
  {
   "cell_type": "code",
   "execution_count": 36,
   "id": "0de29543-e032-4e0d-9ab1-bd06f39a1592",
   "metadata": {
    "scrolled": true
   },
   "outputs": [
    {
     "data": {
      "text/html": [
       "<div>\n",
       "<style scoped>\n",
       "    .dataframe tbody tr th:only-of-type {\n",
       "        vertical-align: middle;\n",
       "    }\n",
       "\n",
       "    .dataframe tbody tr th {\n",
       "        vertical-align: top;\n",
       "    }\n",
       "\n",
       "    .dataframe thead th {\n",
       "        text-align: right;\n",
       "    }\n",
       "</style>\n",
       "<table border=\"1\" class=\"dataframe\">\n",
       "  <thead>\n",
       "    <tr style=\"text-align: right;\">\n",
       "      <th>subscription_type</th>\n",
       "      <th>city</th>\n",
       "      <th>free</th>\n",
       "      <th>ultra</th>\n",
       "    </tr>\n",
       "  </thead>\n",
       "  <tbody>\n",
       "    <tr>\n",
       "      <th>0</th>\n",
       "      <td>Екатеринбург</td>\n",
       "      <td>307378.0</td>\n",
       "      <td>222613.0</td>\n",
       "    </tr>\n",
       "    <tr>\n",
       "      <th>1</th>\n",
       "      <td>Краснодар</td>\n",
       "      <td>293930.0</td>\n",
       "      <td>195515.0</td>\n",
       "    </tr>\n",
       "    <tr>\n",
       "      <th>2</th>\n",
       "      <td>Москва</td>\n",
       "      <td>228046.0</td>\n",
       "      <td>180703.0</td>\n",
       "    </tr>\n",
       "    <tr>\n",
       "      <th>3</th>\n",
       "      <td>Омск</td>\n",
       "      <td>239796.0</td>\n",
       "      <td>209620.0</td>\n",
       "    </tr>\n",
       "    <tr>\n",
       "      <th>4</th>\n",
       "      <td>Пятигорск</td>\n",
       "      <td>325056.0</td>\n",
       "      <td>215646.0</td>\n",
       "    </tr>\n",
       "    <tr>\n",
       "      <th>5</th>\n",
       "      <td>Ростов-на-Дону</td>\n",
       "      <td>299786.0</td>\n",
       "      <td>220542.0</td>\n",
       "    </tr>\n",
       "    <tr>\n",
       "      <th>6</th>\n",
       "      <td>Сочи</td>\n",
       "      <td>277572.0</td>\n",
       "      <td>203765.0</td>\n",
       "    </tr>\n",
       "    <tr>\n",
       "      <th>7</th>\n",
       "      <td>Тюмень</td>\n",
       "      <td>262540.0</td>\n",
       "      <td>196133.0</td>\n",
       "    </tr>\n",
       "  </tbody>\n",
       "</table>\n",
       "</div>"
      ],
      "text/plain": [
       "subscription_type            city      free     ultra\n",
       "0                    Екатеринбург  307378.0  222613.0\n",
       "1                       Краснодар  293930.0  195515.0\n",
       "2                          Москва  228046.0  180703.0\n",
       "3                            Омск  239796.0  209620.0\n",
       "4                       Пятигорск  325056.0  215646.0\n",
       "5                  Ростов-на-Дону  299786.0  220542.0\n",
       "6                            Сочи  277572.0  203765.0\n",
       "7                          Тюмень  262540.0  196133.0"
      ]
     },
     "execution_count": 36,
     "metadata": {},
     "output_type": "execute_result"
    }
   ],
   "source": [
    "revenue_city = pd.pivot_table(df_grouped, index=['subscription_type'], columns='city', aggfunc=({'revenue':'sum'})).T.reset_index()\n",
    "revenue_city.drop(['level_0',], axis=1, inplace=True)\n",
    "revenue_city"
   ]
  },
  {
   "cell_type": "markdown",
   "id": "9674d92e-4a3f-4003-b06e-a788f5a58a4b",
   "metadata": {},
   "source": [
    "Построим в виде диаграммы"
   ]
  },
  {
   "cell_type": "code",
   "execution_count": 37,
   "id": "8b572c98-30ce-47a9-ac34-a34fd4393bd1",
   "metadata": {},
   "outputs": [
    {
     "data": {
      "image/png": "[encoded data removed]",
      "text/plain": [
       "<Figure size 1200x500 with 1 Axes>"
      ]
     },
     "metadata": {},
     "output_type": "display_data"
    }
   ],
   "source": [
    "revenue_city.plot(kind='bar', x='city', rot=0, figsize=(12, 5), xlabel='Города присутствия', ylabel='Выручка за период, руб',\n",
    "                 grid=True, title='Выручка: тарифы и города')\n",
    "plt.legend(title='Тарифы')\n",
    "plt.show()"
   ]
  },
  {
   "cell_type": "markdown",
   "id": "6d5b2821-a99a-431e-86ce-022b9a823360",
   "metadata": {},
   "source": [
    "Можно наглядно увидеть распределение выручки по городам от пользователей с подпиской и без."
   ]
  },
  {
   "cell_type": "markdown",
   "id": "9a7eb50e-04b3-4792-b7d2-ef9e5b6cb04c",
   "metadata": {},
   "source": [
    "## Проверка гипотез\n",
    "### 1. Подписчики проезжают дольше\n",
    "Выясним тратят ли пользователи с подпиской больше времени на поездки? Если да, то пользователи с подпиской могут быть «выгоднее» для компании. Проверим. Выделим в отдельные дататсеты суммарную длительность поездок каждого пользователя по разным тарифам. И построим диаграммы."
   ]
  },
  {
   "cell_type": "code",
   "execution_count": 38,
   "id": "7083d70b-6135-426c-92e8-6090224fd1ac",
   "metadata": {},
   "outputs": [
    {
     "data": {
      "image/png": "[encoded data removed]",
      "text/plain": [
       "<Figure size 1200x500 with 1 Axes>"
      ]
     },
     "metadata": {},
     "output_type": "display_data"
    }
   ],
   "source": [
    "free_duration = df[df.subscription_type == 'free']['duration']\n",
    "ultra_duration = df[df.subscription_type == 'ultra']['duration']\n",
    "\n",
    "free_duration.plot(kind='hist', figsize=(12,5), xlabel='Длительность поездок, мин', ylabel='Количество поездок', alpha=0.7,\n",
    "                  title='Длительность поедок пользователей с подпиской и без подписки', legend=True, label='Без подписки',)\n",
    "ultra_duration.plot(kind='hist', figsize=(12,5), xlabel='Длительность поездок, мин', ylabel='Количество поездок', alpha=0.7,\n",
    "                  title='Длительность поедок пользователей с подпиской и без подписки', legend=True, label='С подпиской',)\n",
    "plt.legend(title='Тарифы')\n",
    "plt.show()\n",
    "# Контроль - построим гистограммы"
   ]
  },
  {
   "cell_type": "markdown",
   "id": "bf0e7740-b15a-4dbe-b79d-2fff15c889b6",
   "metadata": {},
   "source": [
    "Формулируем гипотезы. H0 - выборки не отличаются. H1 -  пользователи тарифа ultra тратят больше времени. \n",
    "Нам нужен двухвыборочный тест для независимых выборок, правосторонняя гипотеза - ttest_ind()"
   ]
  },
  {
   "cell_type": "code",
   "execution_count": 39,
   "id": "d5fa6540-7270-4d75-bcb6-ce7d006b00c2",
   "metadata": {},
   "outputs": [
    {
     "name": "stdout",
     "output_type": "stream",
     "text": [
      "Среднее время пользователей с подпиской ultra: 19.04\n",
      "Среднее время пользователей без подписки: 17.89\n",
      "Проверим, что ultra_duration больше free_duration\n",
      "p-value: 2.495945372073663e-34\n",
      "pvalue < alpha - Нулевая гипотеза отвергается\n"
     ]
    }
   ],
   "source": [
    "print('Среднее время пользователей с подпиской ultra:', round(ultra_duration.mean(), 2))\n",
    "print('Среднее время пользователей без подписки:', round(free_duration.mean(), 2))\n",
    "alpha = 0.05\n",
    "# проверяем что среднее первой выборки больше. \n",
    "print('Проверим, что ultra_duration больше free_duration')\n",
    "results = st.ttest_ind(ultra_duration, free_duration, alternative='greater')\n",
    "print('p-value:', results.pvalue)\n",
    "(print('pvalue < alpha - Нулевая гипотеза отвергается') \n",
    " if results.pvalue < alpha \n",
    " else print('pvalue > alpha - Не получилось отвергнуть нулевую гипотезу'))"
   ]
  },
  {
   "cell_type": "markdown",
   "id": "7654dbd5-6f47-4378-831a-3ffac4a7b56c",
   "metadata": {},
   "source": [
    "**Вывод:** Отвергаем нулевую гипотезу в пользу альтернативной. Пользователи с подпиской тратят больше времени на поездку."
   ]
  },
  {
   "cell_type": "markdown",
   "id": "faa432f7-b483-4b3b-8f47-56610deeccb8",
   "metadata": {},
   "source": [
    "### 2. Подписчики проезжают больше\n",
    "Еще одна гипотеза - Можно ли сказать, что среднее расстояние, которое проезжают пользователи с подпиской за одну поездку, не превышает 3130 метров (расстояние одной поездки в 3130 метров — оптимальное с точки зрения износа самоката)? \n",
    "Формулируем гипотезы. H0 - среднее расстояние пользователей с подпиской равно 3130 м. H1 - пользователи тарифа ultra проезжают больше этого расстояния за поездку. Нам нужен одновыборочный тест, правосторонняя гипотеза - ttest_1samp()"
   ]
  },
  {
   "cell_type": "code",
   "execution_count": 40,
   "id": "73f9424c-59fe-4549-8495-c3156095f3b7",
   "metadata": {},
   "outputs": [
    {
     "name": "stdout",
     "output_type": "stream",
     "text": [
      "Среднее расстояние в тарифе ultra: 3115.45 м\n",
      "Проверим, что ultra_distance больше 3130 м\n",
      "p-value: 0.9195368847849785\n",
      "p-value > alpha - Не получилось отвергнуть нулевую гипотезу\n"
     ]
    }
   ],
   "source": [
    "ultra_distance = df[df.subscription_type == 'ultra']['distance']\n",
    "value = 3130\n",
    "print('Среднее расстояние в тарифе ultra:', round(ultra_distance.mean(), 2), 'м')\n",
    "alpha = 0.05 # Уровень значимости.\n",
    "print('Проверим, что ultra_distance больше', value, 'м')\n",
    "results = st.ttest_1samp(ultra_distance, value, alternative='greater')\n",
    "print('p-value:', results.pvalue)\n",
    "(print('p-value < alpha - Нулевая гипотеза отвергается') \n",
    " if results.pvalue < alpha \n",
    " else print('p-value > alpha - Не получилось отвергнуть нулевую гипотезу'))"
   ]
  },
  {
   "cell_type": "markdown",
   "id": "d66d0ba9-1986-4dc4-be8a-64f213964728",
   "metadata": {},
   "source": [
    "**Вывод:** Результаты теста не позволяют отвергнуть нулевую гипотезу, не оснований, говорить что пользователи с подпиской проезжают больше оптимального расстояния."
   ]
  },
  {
   "cell_type": "markdown",
   "id": "05c92ed7-a6e2-4bd3-bee3-0c0d5b26233d",
   "metadata": {},
   "source": [
    "### 3. Выручка от подписчиков больше\n",
    "Проверим, будет ли помесячная выручка от пользователей с подпиской по месяцам выше, чем выручка от пользователей без подписки. Разобъем датафрейм на 2 и для наглядноссти построим гистограмы."
   ]
  },
  {
   "cell_type": "code",
   "execution_count": 41,
   "id": "134cd9bd-91ae-4b1f-aa7f-eef34e0a4d97",
   "metadata": {},
   "outputs": [
    {
     "data": {
      "image/png": "[encoded data removed]",
      "text/plain": [
       "<Figure size 1200x500 with 1 Axes>"
      ]
     },
     "metadata": {},
     "output_type": "display_data"
    }
   ],
   "source": [
    "ultra_revenue = df_grouped[df_grouped.subscription_type == 'ultra']['revenue']\n",
    "free_revenue = df_grouped[df_grouped.subscription_type == 'free']['revenue']\n",
    "\n",
    "free_revenue.plot(kind='hist', figsize=(12,5), xlabel='Выручка в мес, руб', ylabel='Количество пользователей', alpha=0.7,\n",
    "                  title='Выручка от пользователей с подпиской и без подписки', legend=True, label='Без подписки', )\n",
    "ultra_revenue.plot(kind='hist', figsize=(12,5), xlabel='Выручка в мес, руб', ylabel='Количество пользователей', alpha=0.7,\n",
    "                  title='Выручка от пользователей с подпиской и без подписки', legend=True, label='С подпиской', grid=True)\n",
    "plt.legend(title='Тарифы')\n",
    "plt.show()"
   ]
  },
  {
   "cell_type": "markdown",
   "id": "b40a2351-06fc-4f46-b88f-fdb04c267ba5",
   "metadata": {},
   "source": [
    "Формулируем гипотезы. H0 - помесячная выручка в группах с подпиской и без подписки одинаковая. H1 - помесячная выручка от пользователей с подпиской выше. Нам нужен двухвыборочный тест для независимых выборок, правосторонняя гипотеза - ttest_ind() (проверяем что среднее первой выборки больше)"
   ]
  },
  {
   "cell_type": "code",
   "execution_count": 42,
   "id": "59aee012-6499-4eea-990f-b4f3ffdcb7a5",
   "metadata": {},
   "outputs": [
    {
     "name": "stdout",
     "output_type": "stream",
     "text": [
      "Средняя помесячная выручка от пользователей с подпиской ultra: 362.79\n",
      "Средняя помесячная выручка от пользователей без подписки: 328.64\n",
      "Проверим, что ultra_revenue больше free_revenue\n",
      "p-value: 1.8850394384715216e-31\n",
      "p-value < alpha - Нулевая гипотеза отвергается\n"
     ]
    }
   ],
   "source": [
    "print('Средняя помесячная выручка от пользователей с подпиской ultra:', round(ultra_revenue.mean(), 2))\n",
    "print('Средняя помесячная выручка от пользователей без подписки:', round(free_revenue.mean(), 2))\n",
    "alpha = 0.05\n",
    "print('Проверим, что ultra_revenue больше free_revenue')\n",
    "results = st.ttest_ind(ultra_revenue, free_revenue, alternative='greater')\n",
    "print('p-value:', results.pvalue)\n",
    "(print('p-value < alpha - Нулевая гипотеза отвергается') \n",
    " if results.pvalue < alpha \n",
    " else print('p-value > alpha - Не получилось отвергнуть нулевую гипотезу'))"
   ]
  },
  {
   "cell_type": "markdown",
   "id": "8143bf81-34d9-4e05-96b4-3ff57c0bc017",
   "metadata": {},
   "source": [
    "По результатам проверки выяснии, что выручка от пользователей с подпиской статистически значимо больше чем от пользователей без подписки."
   ]
  },
  {
   "cell_type": "markdown",
   "id": "f5728ce3-1176-42a7-afed-c7fbf2693eff",
   "metadata": {},
   "source": [
    "## Расчет маркетинговых маркетинговых активностей."
   ]
  },
  {
   "cell_type": "markdown",
   "id": "ba8b52e5-13af-49c4-83f6-96ecd9d688bb",
   "metadata": {},
   "source": [
    "### 1. Рассчитать параметры рассылки.\n",
    "Задача - провести кцию с раздачей промокодов на один бесплатный месяц подписки, в рамках которой как минимум 100 существующих клиентов должны продлить эту подписку. То есть по завершении периода действия подписки пользователь может либо отказаться от неё, либо продлить, совершив соответствующий платёж. Известно, что подписку продлевают 10% пользователей. Нужно рассчитать какое минимальное количество промокодов нужно раздать чтобы вероятность не выполнить план была примерно 5%. Построим график распределения и посчтаем необходимое количество промокодов."
   ]
  },
  {
   "cell_type": "markdown",
   "id": "b3e8c4e5-3fdf-4b59-8646-1370b6ec0a2b",
   "metadata": {},
   "source": [
    "Данный случай описывает биноминальное распределение вероятности - подписку либо оформят либо нет. Есть заявленная вероятность события.  построим график биноминального  распределения для 1000 промокодов"
   ]
  },
  {
   "cell_type": "code",
   "execution_count": 43,
   "id": "8ec73579-dc35-41db-a2f8-69f10a1cfb80",
   "metadata": {},
   "outputs": [
    {
     "data": {
      "image/png": "[encoded data removed]",
      "text/plain": [
       "<Figure size 640x480 with 1 Axes>"
      ]
     },
     "metadata": {},
     "output_type": "display_data"
    },
    {
     "name": "stdout",
     "output_type": "stream",
     "text": [
      "Среднее и дисперсия: (100.0, 90.0)\n"
     ]
    }
   ],
   "source": [
    "from math import sqrt\n",
    "n, p = 1000, 0.1\n",
    "distr = [st.binom.pmf(r, n, p) for r in range(n+1) ] \n",
    "plt.bar(range(0, n+1), distr)\n",
    "plt.show()\n",
    "print('Среднее и дисперсия:', st.binom.stats(n, p))"
   ]
  },
  {
   "cell_type": "code",
   "execution_count": 44,
   "id": "bb61cab0-c1e2-498e-8b1a-4e6655367da7",
   "metadata": {},
   "outputs": [
    {
     "name": "stdout",
     "output_type": "stream",
     "text": [
      "При заданной вероятности 0.05 при рассылке 1170 промокодов подпишутся 100 клиентов\n"
     ]
    }
   ],
   "source": [
    "n = 1170\n",
    "p = 0.1\n",
    "distr = st.binom(n=n, p=p)\n",
    "prob = 0.05 # заданная вероятность\n",
    "min_clients = 100 # минимальное количество клиентов\n",
    "new_clients = int(distr.ppf(prob))\n",
    "print('При заданной вероятности', prob,\n",
    "      'при рассылке', n, 'промокодов',\n",
    "      'подпишутся', new_clients, 'клиентов')"
   ]
  },
  {
   "cell_type": "markdown",
   "id": "7ccfc4f9-fd94-453b-9c08-7dccd016fc93",
   "metadata": {},
   "source": [
    "**Вывод:** нужно разослать не мемнее 1170 промокодов."
   ]
  },
  {
   "cell_type": "markdown",
   "id": "3b2bd472-57ec-450f-8272-56495f4f0c58",
   "metadata": {},
   "source": [
    "### 2. Рассчитать вероятность прочтения.\n",
    "Килентам рассылаются push-уведомления в мобильном приложении. По статистике их открывают около 40% получивших. В планах разослать 1 млн. уведомлений. Нужно найти вероятность того, что уведомления открют не более 399б5 тыс пользователей."
   ]
  },
  {
   "cell_type": "markdown",
   "id": "e5da6677-16e2-4b42-8065-8cc66eeacdd1",
   "metadata": {},
   "source": [
    "Оценку вероятности можно провести с помощью функции cdf. Оценивать будем по аппроксимации функции к нормальному распределению."
   ]
  },
  {
   "cell_type": "code",
   "execution_count": 45,
   "id": "f8052772-03d5-4313-9923-81c176edfb8f",
   "metadata": {},
   "outputs": [
    {
     "data": {
      "image/png": "[encoded data removed]",
      "text/plain": [
       "<Figure size 640x480 with 1 Axes>"
      ]
     },
     "metadata": {},
     "output_type": "display_data"
    },
    {
     "name": "stdout",
     "output_type": "stream",
     "text": [
      "Вероятность того, что уведомление откроют не более 399500 человек составляет: 15.37%\n"
     ]
    }
   ],
   "source": [
    "p = 0.4\n",
    "n = 1000000\n",
    "min_n = 399500\n",
    "mu = n * p\n",
    "sigma = (n * p * (1 - p))**0.5\n",
    "distr = st.norm(mu, sigma)\n",
    "# distr.hist()\n",
    "x = np.linspace(mu - 3*sigma, mu + 3*sigma, 100)\n",
    "plt.plot(x, st.norm.pdf(x, mu, sigma))\n",
    "plt.show()\n",
    "prob = distr.cdf(min_n)\n",
    "print('Вероятность того, что уведомление откроют не более', min_n, f'человек составляет: {prob:.2%}')"
   ]
  },
  {
   "cell_type": "markdown",
   "id": "0ae7436f-8355-49e8-abb4-89b07438788a",
   "metadata": {},
   "source": [
    "**ОБЩИЙ ВЫВОД:** \n",
    "\n",
    "По результатам исследования были получены следующие выводы.\n",
    "- Были проанализированы данные о 1,5 тыс пользователей из 8 городов, где работает сервис проката за 2021 год.\n",
    "- За год пользователями было совершено 18 тыс. поездок. Больше всего поездок было совершено в Пятгигорске (219), меньше вссего - в Москве (168).\n",
    "- Пользователей, которые пользуются сервисом по подписке- 46%. В относительных долях больше всего подписчиков - в Москве (50%), меньше всего - в Краснодаре (42%).\n",
    "- Средний возраст пользователей сервиса - 25 лет плюс-минус 5 лет. Это ядро аудитории.\n",
    "- За одну поездку пользователь в среднем проезжает около 3 км плюс-минус 1 км.\n",
    "- Время одной поездки колеблется от 10 до 25 минут (среднее около 17 минут).\n",
    "- Отличия по категориям пользователей  с подпиской и без подписки:\n",
    "- Средняя продолжительность поездок у пользователей с подпиской - выше. В среднем обе категории проезжают 3 км за поездку.\n",
    "- Была рассчитана выручка и построены графики ее распределения по городам и тарифам. наибольшая выручка - в Пятигорске на тарифе free (325 тыс. руб.), наименьшая - Москва (181 тыс. руб.) тариф ultra.\n",
    "- Пользователи с подпиской тратят в среднем больше времени на поездку. ~~При этом проезжают за поездку проезжают расстояние меньшее оптимального (для износа)~~. Помесячная выручка от пользователей с подпиской выше чем от пользователлей без подписки. Поскольку подписчики по всем параметрам выгоднее компании, то нужно направить усилия на увеличение их количества."
   ]
  }
 ],
 "metadata": {
  "ExecuteTimeLog": [
   {
    "duration": 4,
    "start_time": "2024-02-04T08:12:32.016Z"
   },
   {
    "duration": 1056,
    "start_time": "2024-02-04T08:12:32.033Z"
   },
   {
    "duration": 385,
    "start_time": "2024-02-04T08:12:33.090Z"
   },
   {
    "duration": 2,
    "start_time": "2024-02-04T08:12:33.477Z"
   },
   {
    "duration": 41,
    "start_time": "2024-02-04T08:12:33.480Z"
   },
   {
    "duration": 19,
    "start_time": "2024-02-04T08:12:33.523Z"
   },
   {
    "duration": 12,
    "start_time": "2024-02-04T08:12:33.543Z"
   },
   {
    "duration": 24,
    "start_time": "2024-02-04T08:12:33.556Z"
   },
   {
    "duration": 14,
    "start_time": "2024-02-04T08:12:33.581Z"
   },
   {
    "duration": 23,
    "start_time": "2024-02-04T08:12:33.597Z"
   },
   {
    "duration": 9,
    "start_time": "2024-02-04T08:12:33.622Z"
   },
   {
    "duration": 5,
    "start_time": "2024-02-04T08:12:33.633Z"
   },
   {
    "duration": 9,
    "start_time": "2024-02-04T08:12:33.639Z"
   },
   {
    "duration": 16,
    "start_time": "2024-02-04T08:12:33.650Z"
   },
   {
    "duration": 7,
    "start_time": "2024-02-04T08:12:33.669Z"
   },
   {
    "duration": 321,
    "start_time": "2024-02-04T08:12:33.678Z"
   },
   {
    "duration": 20,
    "start_time": "2024-02-04T08:12:34.001Z"
   },
   {
    "duration": 289,
    "start_time": "2024-02-04T08:12:34.022Z"
   },
   {
    "duration": 8,
    "start_time": "2024-02-04T08:12:34.312Z"
   },
   {
    "duration": 234,
    "start_time": "2024-02-04T08:12:34.321Z"
   },
   {
    "duration": 7,
    "start_time": "2024-02-04T08:12:34.558Z"
   },
   {
    "duration": 20,
    "start_time": "2024-02-04T08:12:34.566Z"
   },
   {
    "duration": 241,
    "start_time": "2024-02-04T08:12:34.587Z"
   },
   {
    "duration": 9,
    "start_time": "2024-02-04T08:12:34.829Z"
   },
   {
    "duration": 251,
    "start_time": "2024-02-04T08:12:34.839Z"
   },
   {
    "duration": 8,
    "start_time": "2024-02-04T08:12:35.092Z"
   },
   {
    "duration": 27,
    "start_time": "2024-02-04T08:12:35.101Z"
   },
   {
    "duration": 35,
    "start_time": "2024-02-04T08:12:35.129Z"
   },
   {
    "duration": 12,
    "start_time": "2024-02-04T08:12:35.166Z"
   },
   {
    "duration": 443,
    "start_time": "2024-02-04T08:12:35.180Z"
   },
   {
    "duration": 347,
    "start_time": "2024-02-04T08:12:35.625Z"
   },
   {
    "duration": 151,
    "start_time": "2024-02-04T08:12:35.974Z"
   },
   {
    "duration": 137,
    "start_time": "2024-02-04T08:12:36.127Z"
   },
   {
    "duration": 284,
    "start_time": "2024-02-04T08:12:36.266Z"
   },
   {
    "duration": 8,
    "start_time": "2024-02-04T08:12:36.552Z"
   },
   {
    "duration": 20,
    "start_time": "2024-02-04T08:12:36.562Z"
   },
   {
    "duration": 27,
    "start_time": "2024-02-04T08:12:36.583Z"
   },
   {
    "duration": 3,
    "start_time": "2024-02-04T08:12:36.611Z"
   },
   {
    "duration": 21,
    "start_time": "2024-02-04T08:12:36.615Z"
   },
   {
    "duration": 38,
    "start_time": "2024-02-04T08:12:36.637Z"
   },
   {
    "duration": 28,
    "start_time": "2024-02-04T08:12:36.677Z"
   },
   {
    "duration": 17,
    "start_time": "2024-02-04T08:12:36.708Z"
   },
   {
    "duration": 13,
    "start_time": "2024-02-04T08:12:36.726Z"
   },
   {
    "duration": 145,
    "start_time": "2024-02-04T08:12:36.741Z"
   },
   {
    "duration": 6,
    "start_time": "2024-02-04T08:12:36.888Z"
   },
   {
    "duration": 29,
    "start_time": "2024-02-04T08:12:36.895Z"
   },
   {
    "duration": 220,
    "start_time": "2024-02-04T08:12:36.926Z"
   },
   {
    "duration": 6,
    "start_time": "2024-02-04T08:12:37.147Z"
   },
   {
    "duration": 1448,
    "start_time": "2024-02-04T08:12:37.159Z"
   },
   {
    "duration": 5,
    "start_time": "2024-02-04T08:12:38.609Z"
   },
   {
    "duration": 135,
    "start_time": "2024-02-04T08:12:38.615Z"
   },
   {
    "duration": 4,
    "start_time": "2024-02-04T08:14:41.213Z"
   },
   {
    "duration": 970,
    "start_time": "2024-02-04T08:14:41.218Z"
   },
   {
    "duration": 236,
    "start_time": "2024-02-04T08:14:42.190Z"
   },
   {
    "duration": 2,
    "start_time": "2024-02-04T08:14:42.428Z"
   },
   {
    "duration": 12,
    "start_time": "2024-02-04T08:14:42.431Z"
   },
   {
    "duration": 9,
    "start_time": "2024-02-04T08:14:42.444Z"
   },
   {
    "duration": 10,
    "start_time": "2024-02-04T08:14:42.455Z"
   },
   {
    "duration": 13,
    "start_time": "2024-02-04T08:14:42.466Z"
   },
   {
    "duration": 6,
    "start_time": "2024-02-04T08:14:42.480Z"
   },
   {
    "duration": 12,
    "start_time": "2024-02-04T08:14:42.487Z"
   },
   {
    "duration": 9,
    "start_time": "2024-02-04T08:14:42.501Z"
   },
   {
    "duration": 5,
    "start_time": "2024-02-04T08:14:42.511Z"
   },
   {
    "duration": 3,
    "start_time": "2024-02-04T08:14:42.518Z"
   },
   {
    "duration": 36,
    "start_time": "2024-02-04T08:14:42.523Z"
   },
   {
    "duration": 6,
    "start_time": "2024-02-04T08:14:42.561Z"
   },
   {
    "duration": 303,
    "start_time": "2024-02-04T08:14:42.568Z"
   },
   {
    "duration": 24,
    "start_time": "2024-02-04T08:14:42.873Z"
   },
   {
    "duration": 299,
    "start_time": "2024-02-04T08:14:42.899Z"
   },
   {
    "duration": 7,
    "start_time": "2024-02-04T08:14:43.199Z"
   },
   {
    "duration": 236,
    "start_time": "2024-02-04T08:14:43.207Z"
   },
   {
    "duration": 16,
    "start_time": "2024-02-04T08:14:43.444Z"
   },
   {
    "duration": 16,
    "start_time": "2024-02-04T08:14:43.461Z"
   },
   {
    "duration": 269,
    "start_time": "2024-02-04T08:14:43.478Z"
   },
   {
    "duration": 12,
    "start_time": "2024-02-04T08:14:43.748Z"
   },
   {
    "duration": 252,
    "start_time": "2024-02-04T08:14:43.761Z"
   },
   {
    "duration": 8,
    "start_time": "2024-02-04T08:14:44.014Z"
   },
   {
    "duration": 37,
    "start_time": "2024-02-04T08:14:44.023Z"
   },
   {
    "duration": 16,
    "start_time": "2024-02-04T08:14:44.061Z"
   },
   {
    "duration": 18,
    "start_time": "2024-02-04T08:14:44.080Z"
   },
   {
    "duration": 427,
    "start_time": "2024-02-04T08:14:44.100Z"
   },
   {
    "duration": 352,
    "start_time": "2024-02-04T08:14:44.528Z"
   },
   {
    "duration": 152,
    "start_time": "2024-02-04T08:14:44.881Z"
   },
   {
    "duration": 141,
    "start_time": "2024-02-04T08:14:45.034Z"
   },
   {
    "duration": 288,
    "start_time": "2024-02-04T08:14:45.176Z"
   },
   {
    "duration": 3,
    "start_time": "2024-02-04T08:14:45.466Z"
   },
   {
    "duration": 32,
    "start_time": "2024-02-04T08:14:45.470Z"
   },
   {
    "duration": 28,
    "start_time": "2024-02-04T08:14:45.504Z"
   },
   {
    "duration": 2,
    "start_time": "2024-02-04T08:14:45.534Z"
   },
   {
    "duration": 34,
    "start_time": "2024-02-04T08:14:45.537Z"
   },
   {
    "duration": 14,
    "start_time": "2024-02-04T08:14:45.573Z"
   },
   {
    "duration": 27,
    "start_time": "2024-02-04T08:14:45.588Z"
   },
   {
    "duration": 16,
    "start_time": "2024-02-04T08:14:45.616Z"
   },
   {
    "duration": 11,
    "start_time": "2024-02-04T08:14:45.633Z"
   },
   {
    "duration": 194,
    "start_time": "2024-02-04T08:14:45.645Z"
   },
   {
    "duration": 7,
    "start_time": "2024-02-04T08:14:45.840Z"
   },
   {
    "duration": 16,
    "start_time": "2024-02-04T08:14:45.848Z"
   },
   {
    "duration": 223,
    "start_time": "2024-02-04T08:14:45.865Z"
   },
   {
    "duration": 7,
    "start_time": "2024-02-04T08:14:46.089Z"
   },
   {
    "duration": 1447,
    "start_time": "2024-02-04T08:14:46.097Z"
   },
   {
    "duration": 12,
    "start_time": "2024-02-04T08:14:47.546Z"
   },
   {
    "duration": 131,
    "start_time": "2024-02-04T08:14:47.560Z"
   },
   {
    "duration": 7,
    "start_time": "2024-02-04T08:40:23.075Z"
   },
   {
    "duration": 3,
    "start_time": "2024-02-06T09:35:58.821Z"
   },
   {
    "duration": 1069,
    "start_time": "2024-02-06T09:35:58.842Z"
   },
   {
    "duration": 291,
    "start_time": "2024-02-06T09:35:59.913Z"
   },
   {
    "duration": 2,
    "start_time": "2024-02-06T09:36:00.206Z"
   },
   {
    "duration": 60,
    "start_time": "2024-02-06T09:36:00.210Z"
   },
   {
    "duration": 56,
    "start_time": "2024-02-06T09:36:00.271Z"
   },
   {
    "duration": 148,
    "start_time": "2024-02-06T09:36:00.328Z"
   },
   {
    "duration": 61,
    "start_time": "2024-02-06T09:36:00.478Z"
   },
   {
    "duration": 57,
    "start_time": "2024-02-06T09:36:00.540Z"
   },
   {
    "duration": 68,
    "start_time": "2024-02-06T09:36:00.599Z"
   },
   {
    "duration": 43,
    "start_time": "2024-02-06T09:36:00.670Z"
   },
   {
    "duration": 44,
    "start_time": "2024-02-06T09:36:00.714Z"
   },
   {
    "duration": 57,
    "start_time": "2024-02-06T09:36:00.760Z"
   },
   {
    "duration": 21,
    "start_time": "2024-02-06T09:36:00.819Z"
   },
   {
    "duration": 58,
    "start_time": "2024-02-06T09:36:00.842Z"
   },
   {
    "duration": 56,
    "start_time": "2024-02-06T09:36:00.902Z"
   },
   {
    "duration": 375,
    "start_time": "2024-02-06T09:36:00.960Z"
   },
   {
    "duration": 21,
    "start_time": "2024-02-06T09:36:01.337Z"
   },
   {
    "duration": 288,
    "start_time": "2024-02-06T09:36:01.365Z"
   },
   {
    "duration": 127,
    "start_time": "2024-02-06T09:36:01.665Z"
   },
   {
    "duration": 8,
    "start_time": "2024-02-06T09:36:01.793Z"
   },
   {
    "duration": 37,
    "start_time": "2024-02-06T09:36:01.803Z"
   },
   {
    "duration": 27,
    "start_time": "2024-02-06T09:36:01.841Z"
   },
   {
    "duration": 194,
    "start_time": "2024-02-06T09:36:01.869Z"
   },
   {
    "duration": 8,
    "start_time": "2024-02-06T09:36:02.065Z"
   },
   {
    "duration": 25,
    "start_time": "2024-02-06T09:36:02.074Z"
   },
   {
    "duration": 265,
    "start_time": "2024-02-06T09:36:02.100Z"
   },
   {
    "duration": 8,
    "start_time": "2024-02-06T09:36:02.366Z"
   },
   {
    "duration": 268,
    "start_time": "2024-02-06T09:36:02.378Z"
   },
   {
    "duration": 8,
    "start_time": "2024-02-06T09:36:02.647Z"
   },
   {
    "duration": 24,
    "start_time": "2024-02-06T09:36:02.665Z"
   },
   {
    "duration": 14,
    "start_time": "2024-02-06T09:36:02.691Z"
   },
   {
    "duration": 8,
    "start_time": "2024-02-06T09:36:02.707Z"
   },
   {
    "duration": 24,
    "start_time": "2024-02-06T09:36:02.716Z"
   },
   {
    "duration": 13,
    "start_time": "2024-02-06T09:36:02.765Z"
   },
   {
    "duration": 91,
    "start_time": "2024-02-06T09:36:02.779Z"
   },
   {
    "duration": 422,
    "start_time": "2024-02-06T09:36:02.871Z"
   },
   {
    "duration": 425,
    "start_time": "2024-02-06T09:36:03.295Z"
   },
   {
    "duration": 164,
    "start_time": "2024-02-06T09:36:03.722Z"
   },
   {
    "duration": 137,
    "start_time": "2024-02-06T09:36:03.887Z"
   },
   {
    "duration": 284,
    "start_time": "2024-02-06T09:36:04.025Z"
   },
   {
    "duration": 3,
    "start_time": "2024-02-06T09:36:04.311Z"
   },
   {
    "duration": 4,
    "start_time": "2024-02-06T09:36:04.315Z"
   },
   {
    "duration": 46,
    "start_time": "2024-02-06T09:36:04.320Z"
   },
   {
    "duration": 3,
    "start_time": "2024-02-06T09:36:04.367Z"
   },
   {
    "duration": 9,
    "start_time": "2024-02-06T09:36:04.371Z"
   },
   {
    "duration": 16,
    "start_time": "2024-02-06T09:36:04.382Z"
   },
   {
    "duration": 9,
    "start_time": "2024-02-06T09:36:04.399Z"
   },
   {
    "duration": 22,
    "start_time": "2024-02-06T09:36:04.410Z"
   },
   {
    "duration": 42,
    "start_time": "2024-02-06T09:36:04.433Z"
   },
   {
    "duration": 7,
    "start_time": "2024-02-06T09:36:04.476Z"
   },
   {
    "duration": 6,
    "start_time": "2024-02-06T09:36:04.484Z"
   },
   {
    "duration": 5,
    "start_time": "2024-02-06T09:36:04.491Z"
   },
   {
    "duration": 13,
    "start_time": "2024-02-06T09:36:04.497Z"
   },
   {
    "duration": 12,
    "start_time": "2024-02-06T09:36:04.511Z"
   },
   {
    "duration": 50,
    "start_time": "2024-02-06T09:36:04.524Z"
   },
   {
    "duration": 7,
    "start_time": "2024-02-06T09:36:04.575Z"
   },
   {
    "duration": 202,
    "start_time": "2024-02-06T09:36:04.583Z"
   },
   {
    "duration": 11,
    "start_time": "2024-02-06T09:36:04.787Z"
   },
   {
    "duration": 292,
    "start_time": "2024-02-06T09:36:04.799Z"
   },
   {
    "duration": 7,
    "start_time": "2024-02-06T09:36:05.093Z"
   },
   {
    "duration": 9,
    "start_time": "2024-02-06T09:36:05.102Z"
   },
   {
    "duration": 10,
    "start_time": "2024-02-06T09:36:05.113Z"
   },
   {
    "duration": 205,
    "start_time": "2024-02-06T09:36:05.124Z"
   },
   {
    "duration": 7,
    "start_time": "2024-02-06T09:36:05.331Z"
   },
   {
    "duration": 1448,
    "start_time": "2024-02-06T09:36:05.339Z"
   },
   {
    "duration": 6,
    "start_time": "2024-02-06T09:36:06.788Z"
   },
   {
    "duration": 137,
    "start_time": "2024-02-06T09:36:06.795Z"
   }
  ],
  "kernelspec": {
   "display_name": "Python 3 (ipykernel)",
   "language": "python",
   "name": "python3"
  },
  "language_info": {
   "codemirror_mode": {
    "name": "ipython",
    "version": 3
   },
   "file_extension": ".py",
   "mimetype": "text/x-python",
   "name": "python",
   "nbconvert_exporter": "python",
   "pygments_lexer": "ipython3",
   "version": "3.9.10"
  },
  "toc": {
   "base_numbering": 1,
   "nav_menu": {},
   "number_sections": true,
   "sideBar": true,
   "skip_h1_title": true,
   "title_cell": "Table of Contents",
   "title_sidebar": "Contents",
   "toc_cell": false,
   "toc_position": {},
   "toc_section_display": true,
   "toc_window_display": false
  }
 },
 "nbformat": 4,
 "nbformat_minor": 5
}
